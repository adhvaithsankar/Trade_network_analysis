{
 "cells": [
  {
   "cell_type": "code",
   "execution_count": 189,
   "metadata": {
    "vscode": {
     "languageId": "r"
    }
   },
   "outputs": [],
   "source": [
    "\n",
    "library(ergm)\n"
   ]
  },
  {
   "cell_type": "code",
   "execution_count": 190,
   "metadata": {
    "vscode": {
     "languageId": "r"
    }
   },
   "outputs": [
    {
     "data": {
      "text/html": [
       "<table class=\"dataframe\">\n",
       "<caption>A data.frame: 287400 × 5</caption>\n",
       "<thead>\n",
       "\t<tr><th scope=col>year</th><th scope=col>exporter_id</th><th scope=col>importer_id</th><th scope=col>section_no</th><th scope=col>value</th></tr>\n",
       "\t<tr><th scope=col>&lt;int&gt;</th><th scope=col>&lt;chr&gt;</th><th scope=col>&lt;chr&gt;</th><th scope=col>&lt;int&gt;</th><th scope=col>&lt;dbl&gt;</th></tr>\n",
       "</thead>\n",
       "<tbody>\n",
       "\t<tr><td>2018</td><td>ABW</td><td>ARE</td><td> 3</td><td>6.997162e-10</td></tr>\n",
       "\t<tr><td>2018</td><td>ABW</td><td>ARE</td><td> 4</td><td>3.420166e-07</td></tr>\n",
       "\t<tr><td>2018</td><td>ABW</td><td>ARE</td><td> 6</td><td>1.313903e-07</td></tr>\n",
       "\t<tr><td>2018</td><td>ABW</td><td>ARE</td><td> 7</td><td>5.140412e-07</td></tr>\n",
       "\t<tr><td>2018</td><td>ABW</td><td>ARE</td><td>10</td><td>1.368551e-08</td></tr>\n",
       "\t<tr><td>2018</td><td>ABW</td><td>ARE</td><td>11</td><td>3.611943e-09</td></tr>\n",
       "\t<tr><td>2018</td><td>ABW</td><td>ARE</td><td>13</td><td>3.049043e-10</td></tr>\n",
       "\t<tr><td>2018</td><td>ABW</td><td>ARE</td><td>15</td><td>2.300894e-07</td></tr>\n",
       "\t<tr><td>2018</td><td>ABW</td><td>ARE</td><td>16</td><td>4.286086e-06</td></tr>\n",
       "\t<tr><td>2018</td><td>ABW</td><td>ARE</td><td>17</td><td>4.207444e-07</td></tr>\n",
       "\t<tr><td>2018</td><td>ABW</td><td>ARE</td><td>18</td><td>9.104129e-09</td></tr>\n",
       "\t<tr><td>2018</td><td>ABW</td><td>ARE</td><td>20</td><td>7.778968e-10</td></tr>\n",
       "\t<tr><td>2018</td><td>ABW</td><td>ARG</td><td>16</td><td>8.678045e-10</td></tr>\n",
       "\t<tr><td>2018</td><td>ABW</td><td>AUT</td><td>16</td><td>3.579498e-08</td></tr>\n",
       "\t<tr><td>2018</td><td>ABW</td><td>BEL</td><td> 4</td><td>1.954515e-11</td></tr>\n",
       "\t<tr><td>2018</td><td>ABW</td><td>BEL</td><td> 8</td><td>6.254447e-11</td></tr>\n",
       "\t<tr><td>2018</td><td>ABW</td><td>BEL</td><td>11</td><td>6.502279e-08</td></tr>\n",
       "\t<tr><td>2018</td><td>ABW</td><td>BEL</td><td>14</td><td>6.273992e-09</td></tr>\n",
       "\t<tr><td>2018</td><td>ABW</td><td>BEL</td><td>16</td><td>3.979392e-09</td></tr>\n",
       "\t<tr><td>2018</td><td>ABW</td><td>BEL</td><td>17</td><td>1.289980e-10</td></tr>\n",
       "\t<tr><td>2018</td><td>ABW</td><td>BEL</td><td>18</td><td>4.446521e-08</td></tr>\n",
       "\t<tr><td>2018</td><td>ABW</td><td>BEL</td><td>20</td><td>5.081738e-11</td></tr>\n",
       "\t<tr><td>2018</td><td>ABW</td><td>BFA</td><td> 7</td><td>3.166314e-10</td></tr>\n",
       "\t<tr><td>2018</td><td>ABW</td><td>BHR</td><td> 6</td><td>3.403983e-08</td></tr>\n",
       "\t<tr><td>2018</td><td>ABW</td><td>BHR</td><td>14</td><td>1.762581e-08</td></tr>\n",
       "\t<tr><td>2018</td><td>ABW</td><td>BHR</td><td>15</td><td>3.747586e-08</td></tr>\n",
       "\t<tr><td>2018</td><td>ABW</td><td>BHR</td><td>16</td><td>6.657077e-07</td></tr>\n",
       "\t<tr><td>2018</td><td>ABW</td><td>BIH</td><td>11</td><td>1.954515e-11</td></tr>\n",
       "\t<tr><td>2018</td><td>ABW</td><td>BRA</td><td> 8</td><td>7.943147e-09</td></tr>\n",
       "\t<tr><td>2018</td><td>ABW</td><td>BRA</td><td>15</td><td>1.364212e-07</td></tr>\n",
       "\t<tr><td>⋮</td><td>⋮</td><td>⋮</td><td>⋮</td><td>⋮</td></tr>\n",
       "\t<tr><td>2018</td><td>ZWE</td><td>ZAF</td><td>11</td><td>3.369167e-04</td></tr>\n",
       "\t<tr><td>2018</td><td>ZWE</td><td>ZAF</td><td>12</td><td>9.469095e-06</td></tr>\n",
       "\t<tr><td>2018</td><td>ZWE</td><td>ZAF</td><td>13</td><td>4.389253e-06</td></tr>\n",
       "\t<tr><td>2018</td><td>ZWE</td><td>ZAF</td><td>14</td><td>2.238033e-03</td></tr>\n",
       "\t<tr><td>2018</td><td>ZWE</td><td>ZAF</td><td>15</td><td>2.630311e-04</td></tr>\n",
       "\t<tr><td>2018</td><td>ZWE</td><td>ZAF</td><td>16</td><td>2.689124e-05</td></tr>\n",
       "\t<tr><td>2018</td><td>ZWE</td><td>ZAF</td><td>17</td><td>6.148211e-06</td></tr>\n",
       "\t<tr><td>2018</td><td>ZWE</td><td>ZAF</td><td>18</td><td>4.027527e-05</td></tr>\n",
       "\t<tr><td>2018</td><td>ZWE</td><td>ZAF</td><td>19</td><td>2.041920e-07</td></tr>\n",
       "\t<tr><td>2018</td><td>ZWE</td><td>ZAF</td><td>20</td><td>6.106474e-06</td></tr>\n",
       "\t<tr><td>2018</td><td>ZWE</td><td>ZAF</td><td>21</td><td>6.526140e-06</td></tr>\n",
       "\t<tr><td>2018</td><td>ZWE</td><td>ZMB</td><td> 2</td><td>8.704626e-06</td></tr>\n",
       "\t<tr><td>2018</td><td>ZWE</td><td>ZMB</td><td> 3</td><td>2.391536e-06</td></tr>\n",
       "\t<tr><td>2018</td><td>ZWE</td><td>ZMB</td><td> 4</td><td>4.234609e-05</td></tr>\n",
       "\t<tr><td>2018</td><td>ZWE</td><td>ZMB</td><td> 5</td><td>6.757582e-05</td></tr>\n",
       "\t<tr><td>2018</td><td>ZWE</td><td>ZMB</td><td> 6</td><td>3.925643e-05</td></tr>\n",
       "\t<tr><td>2018</td><td>ZWE</td><td>ZMB</td><td> 7</td><td>9.269727e-06</td></tr>\n",
       "\t<tr><td>2018</td><td>ZWE</td><td>ZMB</td><td> 8</td><td>2.526132e-07</td></tr>\n",
       "\t<tr><td>2018</td><td>ZWE</td><td>ZMB</td><td> 9</td><td>1.244466e-05</td></tr>\n",
       "\t<tr><td>2018</td><td>ZWE</td><td>ZMB</td><td>10</td><td>1.423613e-05</td></tr>\n",
       "\t<tr><td>2018</td><td>ZWE</td><td>ZMB</td><td>11</td><td>9.548421e-06</td></tr>\n",
       "\t<tr><td>2018</td><td>ZWE</td><td>ZMB</td><td>12</td><td>1.120320e-06</td></tr>\n",
       "\t<tr><td>2018</td><td>ZWE</td><td>ZMB</td><td>13</td><td>3.498155e-06</td></tr>\n",
       "\t<tr><td>2018</td><td>ZWE</td><td>ZMB</td><td>14</td><td>1.970815e-07</td></tr>\n",
       "\t<tr><td>2018</td><td>ZWE</td><td>ZMB</td><td>15</td><td>2.366510e-05</td></tr>\n",
       "\t<tr><td>2018</td><td>ZWE</td><td>ZMB</td><td>16</td><td>5.541661e-05</td></tr>\n",
       "\t<tr><td>2018</td><td>ZWE</td><td>ZMB</td><td>17</td><td>5.246011e-06</td></tr>\n",
       "\t<tr><td>2018</td><td>ZWE</td><td>ZMB</td><td>18</td><td>7.915878e-06</td></tr>\n",
       "\t<tr><td>2018</td><td>ZWE</td><td>ZMB</td><td>19</td><td>3.963756e-09</td></tr>\n",
       "\t<tr><td>2018</td><td>ZWE</td><td>ZMB</td><td>20</td><td>5.276142e-06</td></tr>\n",
       "</tbody>\n",
       "</table>\n"
      ],
      "text/latex": [
       "A data.frame: 287400 × 5\n",
       "\\begin{tabular}{lllll}\n",
       " year & exporter\\_id & importer\\_id & section\\_no & value\\\\\n",
       " <int> & <chr> & <chr> & <int> & <dbl>\\\\\n",
       "\\hline\n",
       "\t 2018 & ABW & ARE &  3 & 6.997162e-10\\\\\n",
       "\t 2018 & ABW & ARE &  4 & 3.420166e-07\\\\\n",
       "\t 2018 & ABW & ARE &  6 & 1.313903e-07\\\\\n",
       "\t 2018 & ABW & ARE &  7 & 5.140412e-07\\\\\n",
       "\t 2018 & ABW & ARE & 10 & 1.368551e-08\\\\\n",
       "\t 2018 & ABW & ARE & 11 & 3.611943e-09\\\\\n",
       "\t 2018 & ABW & ARE & 13 & 3.049043e-10\\\\\n",
       "\t 2018 & ABW & ARE & 15 & 2.300894e-07\\\\\n",
       "\t 2018 & ABW & ARE & 16 & 4.286086e-06\\\\\n",
       "\t 2018 & ABW & ARE & 17 & 4.207444e-07\\\\\n",
       "\t 2018 & ABW & ARE & 18 & 9.104129e-09\\\\\n",
       "\t 2018 & ABW & ARE & 20 & 7.778968e-10\\\\\n",
       "\t 2018 & ABW & ARG & 16 & 8.678045e-10\\\\\n",
       "\t 2018 & ABW & AUT & 16 & 3.579498e-08\\\\\n",
       "\t 2018 & ABW & BEL &  4 & 1.954515e-11\\\\\n",
       "\t 2018 & ABW & BEL &  8 & 6.254447e-11\\\\\n",
       "\t 2018 & ABW & BEL & 11 & 6.502279e-08\\\\\n",
       "\t 2018 & ABW & BEL & 14 & 6.273992e-09\\\\\n",
       "\t 2018 & ABW & BEL & 16 & 3.979392e-09\\\\\n",
       "\t 2018 & ABW & BEL & 17 & 1.289980e-10\\\\\n",
       "\t 2018 & ABW & BEL & 18 & 4.446521e-08\\\\\n",
       "\t 2018 & ABW & BEL & 20 & 5.081738e-11\\\\\n",
       "\t 2018 & ABW & BFA &  7 & 3.166314e-10\\\\\n",
       "\t 2018 & ABW & BHR &  6 & 3.403983e-08\\\\\n",
       "\t 2018 & ABW & BHR & 14 & 1.762581e-08\\\\\n",
       "\t 2018 & ABW & BHR & 15 & 3.747586e-08\\\\\n",
       "\t 2018 & ABW & BHR & 16 & 6.657077e-07\\\\\n",
       "\t 2018 & ABW & BIH & 11 & 1.954515e-11\\\\\n",
       "\t 2018 & ABW & BRA &  8 & 7.943147e-09\\\\\n",
       "\t 2018 & ABW & BRA & 15 & 1.364212e-07\\\\\n",
       "\t ⋮ & ⋮ & ⋮ & ⋮ & ⋮\\\\\n",
       "\t 2018 & ZWE & ZAF & 11 & 3.369167e-04\\\\\n",
       "\t 2018 & ZWE & ZAF & 12 & 9.469095e-06\\\\\n",
       "\t 2018 & ZWE & ZAF & 13 & 4.389253e-06\\\\\n",
       "\t 2018 & ZWE & ZAF & 14 & 2.238033e-03\\\\\n",
       "\t 2018 & ZWE & ZAF & 15 & 2.630311e-04\\\\\n",
       "\t 2018 & ZWE & ZAF & 16 & 2.689124e-05\\\\\n",
       "\t 2018 & ZWE & ZAF & 17 & 6.148211e-06\\\\\n",
       "\t 2018 & ZWE & ZAF & 18 & 4.027527e-05\\\\\n",
       "\t 2018 & ZWE & ZAF & 19 & 2.041920e-07\\\\\n",
       "\t 2018 & ZWE & ZAF & 20 & 6.106474e-06\\\\\n",
       "\t 2018 & ZWE & ZAF & 21 & 6.526140e-06\\\\\n",
       "\t 2018 & ZWE & ZMB &  2 & 8.704626e-06\\\\\n",
       "\t 2018 & ZWE & ZMB &  3 & 2.391536e-06\\\\\n",
       "\t 2018 & ZWE & ZMB &  4 & 4.234609e-05\\\\\n",
       "\t 2018 & ZWE & ZMB &  5 & 6.757582e-05\\\\\n",
       "\t 2018 & ZWE & ZMB &  6 & 3.925643e-05\\\\\n",
       "\t 2018 & ZWE & ZMB &  7 & 9.269727e-06\\\\\n",
       "\t 2018 & ZWE & ZMB &  8 & 2.526132e-07\\\\\n",
       "\t 2018 & ZWE & ZMB &  9 & 1.244466e-05\\\\\n",
       "\t 2018 & ZWE & ZMB & 10 & 1.423613e-05\\\\\n",
       "\t 2018 & ZWE & ZMB & 11 & 9.548421e-06\\\\\n",
       "\t 2018 & ZWE & ZMB & 12 & 1.120320e-06\\\\\n",
       "\t 2018 & ZWE & ZMB & 13 & 3.498155e-06\\\\\n",
       "\t 2018 & ZWE & ZMB & 14 & 1.970815e-07\\\\\n",
       "\t 2018 & ZWE & ZMB & 15 & 2.366510e-05\\\\\n",
       "\t 2018 & ZWE & ZMB & 16 & 5.541661e-05\\\\\n",
       "\t 2018 & ZWE & ZMB & 17 & 5.246011e-06\\\\\n",
       "\t 2018 & ZWE & ZMB & 18 & 7.915878e-06\\\\\n",
       "\t 2018 & ZWE & ZMB & 19 & 3.963756e-09\\\\\n",
       "\t 2018 & ZWE & ZMB & 20 & 5.276142e-06\\\\\n",
       "\\end{tabular}\n"
      ],
      "text/markdown": [
       "\n",
       "A data.frame: 287400 × 5\n",
       "\n",
       "| year &lt;int&gt; | exporter_id &lt;chr&gt; | importer_id &lt;chr&gt; | section_no &lt;int&gt; | value &lt;dbl&gt; |\n",
       "|---|---|---|---|---|\n",
       "| 2018 | ABW | ARE |  3 | 6.997162e-10 |\n",
       "| 2018 | ABW | ARE |  4 | 3.420166e-07 |\n",
       "| 2018 | ABW | ARE |  6 | 1.313903e-07 |\n",
       "| 2018 | ABW | ARE |  7 | 5.140412e-07 |\n",
       "| 2018 | ABW | ARE | 10 | 1.368551e-08 |\n",
       "| 2018 | ABW | ARE | 11 | 3.611943e-09 |\n",
       "| 2018 | ABW | ARE | 13 | 3.049043e-10 |\n",
       "| 2018 | ABW | ARE | 15 | 2.300894e-07 |\n",
       "| 2018 | ABW | ARE | 16 | 4.286086e-06 |\n",
       "| 2018 | ABW | ARE | 17 | 4.207444e-07 |\n",
       "| 2018 | ABW | ARE | 18 | 9.104129e-09 |\n",
       "| 2018 | ABW | ARE | 20 | 7.778968e-10 |\n",
       "| 2018 | ABW | ARG | 16 | 8.678045e-10 |\n",
       "| 2018 | ABW | AUT | 16 | 3.579498e-08 |\n",
       "| 2018 | ABW | BEL |  4 | 1.954515e-11 |\n",
       "| 2018 | ABW | BEL |  8 | 6.254447e-11 |\n",
       "| 2018 | ABW | BEL | 11 | 6.502279e-08 |\n",
       "| 2018 | ABW | BEL | 14 | 6.273992e-09 |\n",
       "| 2018 | ABW | BEL | 16 | 3.979392e-09 |\n",
       "| 2018 | ABW | BEL | 17 | 1.289980e-10 |\n",
       "| 2018 | ABW | BEL | 18 | 4.446521e-08 |\n",
       "| 2018 | ABW | BEL | 20 | 5.081738e-11 |\n",
       "| 2018 | ABW | BFA |  7 | 3.166314e-10 |\n",
       "| 2018 | ABW | BHR |  6 | 3.403983e-08 |\n",
       "| 2018 | ABW | BHR | 14 | 1.762581e-08 |\n",
       "| 2018 | ABW | BHR | 15 | 3.747586e-08 |\n",
       "| 2018 | ABW | BHR | 16 | 6.657077e-07 |\n",
       "| 2018 | ABW | BIH | 11 | 1.954515e-11 |\n",
       "| 2018 | ABW | BRA |  8 | 7.943147e-09 |\n",
       "| 2018 | ABW | BRA | 15 | 1.364212e-07 |\n",
       "| ⋮ | ⋮ | ⋮ | ⋮ | ⋮ |\n",
       "| 2018 | ZWE | ZAF | 11 | 3.369167e-04 |\n",
       "| 2018 | ZWE | ZAF | 12 | 9.469095e-06 |\n",
       "| 2018 | ZWE | ZAF | 13 | 4.389253e-06 |\n",
       "| 2018 | ZWE | ZAF | 14 | 2.238033e-03 |\n",
       "| 2018 | ZWE | ZAF | 15 | 2.630311e-04 |\n",
       "| 2018 | ZWE | ZAF | 16 | 2.689124e-05 |\n",
       "| 2018 | ZWE | ZAF | 17 | 6.148211e-06 |\n",
       "| 2018 | ZWE | ZAF | 18 | 4.027527e-05 |\n",
       "| 2018 | ZWE | ZAF | 19 | 2.041920e-07 |\n",
       "| 2018 | ZWE | ZAF | 20 | 6.106474e-06 |\n",
       "| 2018 | ZWE | ZAF | 21 | 6.526140e-06 |\n",
       "| 2018 | ZWE | ZMB |  2 | 8.704626e-06 |\n",
       "| 2018 | ZWE | ZMB |  3 | 2.391536e-06 |\n",
       "| 2018 | ZWE | ZMB |  4 | 4.234609e-05 |\n",
       "| 2018 | ZWE | ZMB |  5 | 6.757582e-05 |\n",
       "| 2018 | ZWE | ZMB |  6 | 3.925643e-05 |\n",
       "| 2018 | ZWE | ZMB |  7 | 9.269727e-06 |\n",
       "| 2018 | ZWE | ZMB |  8 | 2.526132e-07 |\n",
       "| 2018 | ZWE | ZMB |  9 | 1.244466e-05 |\n",
       "| 2018 | ZWE | ZMB | 10 | 1.423613e-05 |\n",
       "| 2018 | ZWE | ZMB | 11 | 9.548421e-06 |\n",
       "| 2018 | ZWE | ZMB | 12 | 1.120320e-06 |\n",
       "| 2018 | ZWE | ZMB | 13 | 3.498155e-06 |\n",
       "| 2018 | ZWE | ZMB | 14 | 1.970815e-07 |\n",
       "| 2018 | ZWE | ZMB | 15 | 2.366510e-05 |\n",
       "| 2018 | ZWE | ZMB | 16 | 5.541661e-05 |\n",
       "| 2018 | ZWE | ZMB | 17 | 5.246011e-06 |\n",
       "| 2018 | ZWE | ZMB | 18 | 7.915878e-06 |\n",
       "| 2018 | ZWE | ZMB | 19 | 3.963756e-09 |\n",
       "| 2018 | ZWE | ZMB | 20 | 5.276142e-06 |\n",
       "\n"
      ],
      "text/plain": [
       "       year exporter_id importer_id section_no value       \n",
       "1      2018 ABW         ARE          3         6.997162e-10\n",
       "2      2018 ABW         ARE          4         3.420166e-07\n",
       "3      2018 ABW         ARE          6         1.313903e-07\n",
       "4      2018 ABW         ARE          7         5.140412e-07\n",
       "5      2018 ABW         ARE         10         1.368551e-08\n",
       "6      2018 ABW         ARE         11         3.611943e-09\n",
       "7      2018 ABW         ARE         13         3.049043e-10\n",
       "8      2018 ABW         ARE         15         2.300894e-07\n",
       "9      2018 ABW         ARE         16         4.286086e-06\n",
       "10     2018 ABW         ARE         17         4.207444e-07\n",
       "11     2018 ABW         ARE         18         9.104129e-09\n",
       "12     2018 ABW         ARE         20         7.778968e-10\n",
       "13     2018 ABW         ARG         16         8.678045e-10\n",
       "14     2018 ABW         AUT         16         3.579498e-08\n",
       "15     2018 ABW         BEL          4         1.954515e-11\n",
       "16     2018 ABW         BEL          8         6.254447e-11\n",
       "17     2018 ABW         BEL         11         6.502279e-08\n",
       "18     2018 ABW         BEL         14         6.273992e-09\n",
       "19     2018 ABW         BEL         16         3.979392e-09\n",
       "20     2018 ABW         BEL         17         1.289980e-10\n",
       "21     2018 ABW         BEL         18         4.446521e-08\n",
       "22     2018 ABW         BEL         20         5.081738e-11\n",
       "23     2018 ABW         BFA          7         3.166314e-10\n",
       "24     2018 ABW         BHR          6         3.403983e-08\n",
       "25     2018 ABW         BHR         14         1.762581e-08\n",
       "26     2018 ABW         BHR         15         3.747586e-08\n",
       "27     2018 ABW         BHR         16         6.657077e-07\n",
       "28     2018 ABW         BIH         11         1.954515e-11\n",
       "29     2018 ABW         BRA          8         7.943147e-09\n",
       "30     2018 ABW         BRA         15         1.364212e-07\n",
       "⋮      ⋮    ⋮           ⋮           ⋮          ⋮           \n",
       "287371 2018 ZWE         ZAF         11         3.369167e-04\n",
       "287372 2018 ZWE         ZAF         12         9.469095e-06\n",
       "287373 2018 ZWE         ZAF         13         4.389253e-06\n",
       "287374 2018 ZWE         ZAF         14         2.238033e-03\n",
       "287375 2018 ZWE         ZAF         15         2.630311e-04\n",
       "287376 2018 ZWE         ZAF         16         2.689124e-05\n",
       "287377 2018 ZWE         ZAF         17         6.148211e-06\n",
       "287378 2018 ZWE         ZAF         18         4.027527e-05\n",
       "287379 2018 ZWE         ZAF         19         2.041920e-07\n",
       "287380 2018 ZWE         ZAF         20         6.106474e-06\n",
       "287381 2018 ZWE         ZAF         21         6.526140e-06\n",
       "287382 2018 ZWE         ZMB          2         8.704626e-06\n",
       "287383 2018 ZWE         ZMB          3         2.391536e-06\n",
       "287384 2018 ZWE         ZMB          4         4.234609e-05\n",
       "287385 2018 ZWE         ZMB          5         6.757582e-05\n",
       "287386 2018 ZWE         ZMB          6         3.925643e-05\n",
       "287387 2018 ZWE         ZMB          7         9.269727e-06\n",
       "287388 2018 ZWE         ZMB          8         2.526132e-07\n",
       "287389 2018 ZWE         ZMB          9         1.244466e-05\n",
       "287390 2018 ZWE         ZMB         10         1.423613e-05\n",
       "287391 2018 ZWE         ZMB         11         9.548421e-06\n",
       "287392 2018 ZWE         ZMB         12         1.120320e-06\n",
       "287393 2018 ZWE         ZMB         13         3.498155e-06\n",
       "287394 2018 ZWE         ZMB         14         1.970815e-07\n",
       "287395 2018 ZWE         ZMB         15         2.366510e-05\n",
       "287396 2018 ZWE         ZMB         16         5.541661e-05\n",
       "287397 2018 ZWE         ZMB         17         5.246011e-06\n",
       "287398 2018 ZWE         ZMB         18         7.915878e-06\n",
       "287399 2018 ZWE         ZMB         19         3.963756e-09\n",
       "287400 2018 ZWE         ZMB         20         5.276142e-06"
      ]
     },
     "metadata": {},
     "output_type": "display_data"
    }
   ],
   "source": [
    "data <- read.csv(\"edge_data_2018_normalized.csv\")\n",
    "data"
   ]
  },
  {
   "cell_type": "code",
   "execution_count": 191,
   "metadata": {
    "vscode": {
     "languageId": "r"
    }
   },
   "outputs": [],
   "source": [
    "data <- data[data$exporter_id != data$importer_id, ]"
   ]
  },
  {
   "cell_type": "code",
   "execution_count": 192,
   "metadata": {
    "vscode": {
     "languageId": "r"
    }
   },
   "outputs": [],
   "source": [
    "# Ensure only 2018 data\n",
    "data <- data[data$year == 2018, ]\n",
    "# data"
   ]
  },
  {
   "cell_type": "code",
   "execution_count": 193,
   "metadata": {
    "vscode": {
     "languageId": "r"
    }
   },
   "outputs": [],
   "source": [
    "# Aggregate data by exporter_id and importer_id, summing up the 'value' and 'section_no'\n",
    "library(dplyr)\n",
    "data_aggregated <- data %>%\n",
    "  group_by(exporter_id, importer_id, ) %>%\n",
    "  summarise(value = sum(value,na.rm = TRUE), .groups = 'drop')"
   ]
  },
  {
   "cell_type": "code",
   "execution_count": 194,
   "metadata": {
    "vscode": {
     "languageId": "r"
    }
   },
   "outputs": [],
   "source": [
    "# Create a network object from the aggregated data\n",
    "library(network)\n"
   ]
  },
  {
   "cell_type": "code",
   "execution_count": 195,
   "metadata": {
    "vscode": {
     "languageId": "r"
    }
   },
   "outputs": [],
   "source": [
    "trade_network<-network(data_aggregated,directed=TRUE,vertices=NULL,matrix.type=\"edgelist\",ignore.eval=FALSE)"
   ]
  },
  {
   "cell_type": "code",
   "execution_count": 196,
   "metadata": {
    "vscode": {
     "languageId": "r"
    }
   },
   "outputs": [],
   "source": [
    "# Add edge attributes\n",
    "set.edge.value(trade_network, \"value\", data$value)\n",
    "set.edge.value(trade_network, \"section_no\", data$section_no)\n",
    "set.edge.value(trade_network, \"year\", data$year)\n",
    "\n"
   ]
  },
  {
   "cell_type": "code",
   "execution_count": 197,
   "metadata": {
    "vscode": {
     "languageId": "r"
    }
   },
   "outputs": [
    {
     "data": {
      "text/html": [
       "<style>\n",
       ".list-inline {list-style: none; margin:0; padding: 0}\n",
       ".list-inline>li {display: inline-block}\n",
       ".list-inline>li:not(:last-child)::after {content: \"\\00b7\"; padding: 0 .5ex}\n",
       "</style>\n",
       "<ol class=list-inline><li>'exporter_id'</li><li>'importer_id'</li><li>'value'</li></ol>\n"
      ],
      "text/latex": [
       "\\begin{enumerate*}\n",
       "\\item 'exporter\\_id'\n",
       "\\item 'importer\\_id'\n",
       "\\item 'value'\n",
       "\\end{enumerate*}\n"
      ],
      "text/markdown": [
       "1. 'exporter_id'\n",
       "2. 'importer_id'\n",
       "3. 'value'\n",
       "\n",
       "\n"
      ],
      "text/plain": [
       "[1] \"exporter_id\" \"importer_id\" \"value\"      "
      ]
     },
     "metadata": {},
     "output_type": "display_data"
    }
   ],
   "source": [
    "colnames(data_aggregated)\n"
   ]
  },
  {
   "cell_type": "code",
   "execution_count": 198,
   "metadata": {
    "vscode": {
     "languageId": "r"
    }
   },
   "outputs": [
    {
     "data": {
      "text/plain": [
       "NULL"
      ]
     },
     "metadata": {},
     "output_type": "display_data"
    }
   ],
   "source": [
    "colnames(trade_network)"
   ]
  },
  {
   "cell_type": "code",
   "execution_count": 199,
   "metadata": {
    "vscode": {
     "languageId": "r"
    }
   },
   "outputs": [],
   "source": [
    "section_no_nodal <- data %>%\n",
    "  group_by(exporter_id) %>%\n",
    "  summarize(most_common_section = names(sort(table(section_no), decreasing = TRUE))[1]) %>%\n",
    "  select(exporter_id, most_common_section)"
   ]
  },
  {
   "cell_type": "code",
   "execution_count": 200,
   "metadata": {
    "vscode": {
     "languageId": "r"
    }
   },
   "outputs": [],
   "source": [
    "network::set.vertex.attribute(trade_network, \"section_no\", section_no_nodal$most_common_section)"
   ]
  },
  {
   "cell_type": "code",
   "execution_count": 201,
   "metadata": {
    "vscode": {
     "languageId": "r"
    }
   },
   "outputs": [],
   "source": [
    "# Add 'value' as an edge attribute\n",
    "set.edge.value(trade_network, \"value\", data$value)\n"
   ]
  },
  {
   "cell_type": "code",
   "execution_count": 202,
   "metadata": {
    "vscode": {
     "languageId": "r"
    }
   },
   "outputs": [
    {
     "name": "stderr",
     "output_type": "stream",
     "text": [
      "Starting maximum pseudolikelihood estimation (MPLE):\n",
      "\n",
      "Obtaining the responsible dyads.\n",
      "\n",
      "Evaluating the predictor and response matrix.\n",
      "\n",
      "Warning message in mple.existence(pl):\n",
      "\"The MPLE does not exist!\"\n",
      "Maximizing the pseudolikelihood.\n",
      "\n",
      "Warning message in ergm.mple(s, s.obs, init = init, control = control, verbose = verbose, :\n",
      "\"GLM may be separable; restarting glm with zeros.\n",
      "\"\n",
      "Warning message:\n",
      "\"glm.fit: algorithm did not converge\"\n",
      "Warning message:\n",
      "\"glm.fit: fitted probabilities numerically 0 or 1 occurred\"\n",
      "Finished MPLE.\n",
      "\n",
      "Evaluating log-likelihood at the estimate. \n",
      "\n",
      "\n"
     ]
    }
   ],
   "source": [
    "# Fit the ERGM model with edgecov for 'value' and nodematch for 'section_no'\n",
    "model <- ergm(trade_network ~ edges + nodematch(\"section_no\") + edgecov(trade_network, \"value\"))\n"
   ]
  },
  {
   "cell_type": "code",
   "execution_count": 203,
   "metadata": {
    "vscode": {
     "languageId": "r"
    }
   },
   "outputs": [
    {
     "data": {
      "text/plain": [
       "Call:\n",
       "ergm(formula = trade_network ~ edges + nodematch(\"section_no\") + \n",
       "    edgecov(trade_network, \"value\"))\n",
       "\n",
       "Maximum Likelihood Results:\n",
       "\n",
       "                       Estimate Std. Error MCMC % z value Pr(>|z|)    \n",
       "edges                -2.663e+00  3.417e-02      0 -77.915  < 1e-04 ***\n",
       "nodematch.section_no -2.141e-01  5.632e-02      0  -3.801 0.000144 ***\n",
       "edgecov.value         9.218e+09  1.093e+08      0  84.317  < 1e-04 ***\n",
       "---\n",
       "Signif. codes:  0 '***' 0.001 '**' 0.01 '*' 0.05 '.' 0.1 ' ' 1\n",
       "\n",
       "     Null Deviance: 59688  on 43056  degrees of freedom\n",
       " Residual Deviance:  6348  on 43053  degrees of freedom\n",
       " \n",
       "AIC: 6354  BIC: 6380  (Smaller is better. MC Std. Err. = 0)"
      ]
     },
     "metadata": {},
     "output_type": "display_data"
    }
   ],
   "source": [
    "summary(model)"
   ]
  },
  {
   "cell_type": "code",
   "execution_count": 204,
   "metadata": {
    "vscode": {
     "languageId": "r"
    }
   },
   "outputs": [],
   "source": [
    "# gof_results <- gof(model)\n",
    "\n",
    "# # Summarize GOF results\n",
    "# print(gof_results)"
   ]
  },
  {
   "cell_type": "code",
   "execution_count": 205,
   "metadata": {
    "vscode": {
     "languageId": "r"
    }
   },
   "outputs": [],
   "source": [
    "# # Plot the GOF results\n",
    "# par(mfrow = c(2, 2)) # Arrange plots in a grid\n",
    "# plot(gof_results)"
   ]
  },
  {
   "cell_type": "code",
   "execution_count": 206,
   "metadata": {
    "vscode": {
     "languageId": "r"
    }
   },
   "outputs": [
    {
     "data": {
      "image/png": "[encoded data removed]",
      "text/plain": [
       "Plot with title \"Initial Trade Network\""
      ]
     },
     "metadata": {
      "image/png": {
       "height": 420,
       "width": 420
      }
     },
     "output_type": "display_data"
    }
   ],
   "source": [
    "plot(trade_network,\n",
    "     displaylabels = TRUE,\n",
    "     label.cex = 0.7,\n",
    "     main = \"Initial Trade Network\")"
   ]
  },
  {
   "cell_type": "code",
   "execution_count": 207,
   "metadata": {
    "vscode": {
     "languageId": "r"
    }
   },
   "outputs": [
    {
     "data": {
      "text/html": [
       "<table class=\"dataframe\">\n",
       "<caption>A data.frame: 43056 × 3</caption>\n",
       "<thead>\n",
       "\t<tr><th scope=col>tail</th><th scope=col>head</th><th scope=col>p</th></tr>\n",
       "\t<tr><th scope=col>&lt;dbl&gt;</th><th scope=col>&lt;dbl&gt;</th><th scope=col>&lt;dbl&gt;</th></tr>\n",
       "</thead>\n",
       "<tbody>\n",
       "\t<tr><td>100</td><td> 39</td><td>0.06521082</td></tr>\n",
       "\t<tr><td> 25</td><td>138</td><td>0.06521082</td></tr>\n",
       "\t<tr><td> 68</td><td> 58</td><td>0.05331359</td></tr>\n",
       "\t<tr><td> 47</td><td> 38</td><td>0.05331359</td></tr>\n",
       "\t<tr><td> 60</td><td>203</td><td>0.05331359</td></tr>\n",
       "\t<tr><td>  9</td><td>189</td><td>0.06521082</td></tr>\n",
       "\t<tr><td>118</td><td>202</td><td>0.06521082</td></tr>\n",
       "\t<tr><td>108</td><td> 60</td><td>0.05331359</td></tr>\n",
       "\t<tr><td>133</td><td>202</td><td>0.05331359</td></tr>\n",
       "\t<tr><td> 32</td><td> 25</td><td>0.06521082</td></tr>\n",
       "\t<tr><td>172</td><td>157</td><td>0.05331359</td></tr>\n",
       "\t<tr><td>196</td><td>156</td><td>0.06521082</td></tr>\n",
       "\t<tr><td>181</td><td>108</td><td>0.05331359</td></tr>\n",
       "\t<tr><td>173</td><td>204</td><td>0.05331359</td></tr>\n",
       "\t<tr><td>129</td><td>172</td><td>0.05331359</td></tr>\n",
       "\t<tr><td> 73</td><td>193</td><td>0.06521082</td></tr>\n",
       "\t<tr><td> 97</td><td>119</td><td>0.06521082</td></tr>\n",
       "\t<tr><td> 40</td><td>203</td><td>0.05331359</td></tr>\n",
       "\t<tr><td> 15</td><td> 65</td><td>0.05331359</td></tr>\n",
       "\t<tr><td> 94</td><td>151</td><td>0.06521082</td></tr>\n",
       "\t<tr><td>192</td><td>162</td><td>0.06521082</td></tr>\n",
       "\t<tr><td>193</td><td>173</td><td>0.06521082</td></tr>\n",
       "\t<tr><td>116</td><td> 31</td><td>0.05331359</td></tr>\n",
       "\t<tr><td>162</td><td>173</td><td>0.06521082</td></tr>\n",
       "\t<tr><td>162</td><td>181</td><td>0.06521082</td></tr>\n",
       "\t<tr><td>182</td><td>205</td><td>0.06521082</td></tr>\n",
       "\t<tr><td> 38</td><td>186</td><td>0.06521082</td></tr>\n",
       "\t<tr><td>161</td><td>192</td><td>0.06521082</td></tr>\n",
       "\t<tr><td>157</td><td> 80</td><td>0.06521082</td></tr>\n",
       "\t<tr><td>143</td><td> 52</td><td>0.05331359</td></tr>\n",
       "\t<tr><td>⋮</td><td>⋮</td><td>⋮</td></tr>\n",
       "\t<tr><td>103</td><td>175</td><td>1.0000000</td></tr>\n",
       "\t<tr><td>  5</td><td> 37</td><td>1.0000000</td></tr>\n",
       "\t<tr><td> 84</td><td>132</td><td>1.0000000</td></tr>\n",
       "\t<tr><td> 82</td><td>152</td><td>1.0000000</td></tr>\n",
       "\t<tr><td>152</td><td>165</td><td>1.0000000</td></tr>\n",
       "\t<tr><td> 31</td><td> 92</td><td>1.0000000</td></tr>\n",
       "\t<tr><td>159</td><td> 89</td><td>0.1421104</td></tr>\n",
       "\t<tr><td>106</td><td>190</td><td>1.0000000</td></tr>\n",
       "\t<tr><td> 37</td><td>165</td><td>1.0000000</td></tr>\n",
       "\t<tr><td> 39</td><td> 86</td><td>0.9860179</td></tr>\n",
       "\t<tr><td> 19</td><td>162</td><td>0.4649845</td></tr>\n",
       "\t<tr><td>  8</td><td>154</td><td>1.0000000</td></tr>\n",
       "\t<tr><td> 33</td><td>  2</td><td>1.0000000</td></tr>\n",
       "\t<tr><td>195</td><td>154</td><td>1.0000000</td></tr>\n",
       "\t<tr><td>130</td><td> 26</td><td>1.0000000</td></tr>\n",
       "\t<tr><td> 47</td><td>120</td><td>1.0000000</td></tr>\n",
       "\t<tr><td> 11</td><td> 60</td><td>1.0000000</td></tr>\n",
       "\t<tr><td>158</td><td>130</td><td>1.0000000</td></tr>\n",
       "\t<tr><td> 75</td><td>  4</td><td>1.0000000</td></tr>\n",
       "\t<tr><td> 54</td><td>162</td><td>1.0000000</td></tr>\n",
       "\t<tr><td> 54</td><td> 41</td><td>1.0000000</td></tr>\n",
       "\t<tr><td> 72</td><td> 22</td><td>1.0000000</td></tr>\n",
       "\t<tr><td> 54</td><td> 36</td><td>1.0000000</td></tr>\n",
       "\t<tr><td> 38</td><td> 75</td><td>1.0000000</td></tr>\n",
       "\t<tr><td>191</td><td> 99</td><td>1.0000000</td></tr>\n",
       "\t<tr><td>102</td><td>103</td><td>1.0000000</td></tr>\n",
       "\t<tr><td>138</td><td> 59</td><td>1.0000000</td></tr>\n",
       "\t<tr><td> 86</td><td> 43</td><td>1.0000000</td></tr>\n",
       "\t<tr><td> 93</td><td>130</td><td>1.0000000</td></tr>\n",
       "\t<tr><td>117</td><td>105</td><td>1.0000000</td></tr>\n",
       "</tbody>\n",
       "</table>\n"
      ],
      "text/latex": [
       "A data.frame: 43056 × 3\n",
       "\\begin{tabular}{lll}\n",
       " tail & head & p\\\\\n",
       " <dbl> & <dbl> & <dbl>\\\\\n",
       "\\hline\n",
       "\t 100 &  39 & 0.06521082\\\\\n",
       "\t  25 & 138 & 0.06521082\\\\\n",
       "\t  68 &  58 & 0.05331359\\\\\n",
       "\t  47 &  38 & 0.05331359\\\\\n",
       "\t  60 & 203 & 0.05331359\\\\\n",
       "\t   9 & 189 & 0.06521082\\\\\n",
       "\t 118 & 202 & 0.06521082\\\\\n",
       "\t 108 &  60 & 0.05331359\\\\\n",
       "\t 133 & 202 & 0.05331359\\\\\n",
       "\t  32 &  25 & 0.06521082\\\\\n",
       "\t 172 & 157 & 0.05331359\\\\\n",
       "\t 196 & 156 & 0.06521082\\\\\n",
       "\t 181 & 108 & 0.05331359\\\\\n",
       "\t 173 & 204 & 0.05331359\\\\\n",
       "\t 129 & 172 & 0.05331359\\\\\n",
       "\t  73 & 193 & 0.06521082\\\\\n",
       "\t  97 & 119 & 0.06521082\\\\\n",
       "\t  40 & 203 & 0.05331359\\\\\n",
       "\t  15 &  65 & 0.05331359\\\\\n",
       "\t  94 & 151 & 0.06521082\\\\\n",
       "\t 192 & 162 & 0.06521082\\\\\n",
       "\t 193 & 173 & 0.06521082\\\\\n",
       "\t 116 &  31 & 0.05331359\\\\\n",
       "\t 162 & 173 & 0.06521082\\\\\n",
       "\t 162 & 181 & 0.06521082\\\\\n",
       "\t 182 & 205 & 0.06521082\\\\\n",
       "\t  38 & 186 & 0.06521082\\\\\n",
       "\t 161 & 192 & 0.06521082\\\\\n",
       "\t 157 &  80 & 0.06521082\\\\\n",
       "\t 143 &  52 & 0.05331359\\\\\n",
       "\t ⋮ & ⋮ & ⋮\\\\\n",
       "\t 103 & 175 & 1.0000000\\\\\n",
       "\t   5 &  37 & 1.0000000\\\\\n",
       "\t  84 & 132 & 1.0000000\\\\\n",
       "\t  82 & 152 & 1.0000000\\\\\n",
       "\t 152 & 165 & 1.0000000\\\\\n",
       "\t  31 &  92 & 1.0000000\\\\\n",
       "\t 159 &  89 & 0.1421104\\\\\n",
       "\t 106 & 190 & 1.0000000\\\\\n",
       "\t  37 & 165 & 1.0000000\\\\\n",
       "\t  39 &  86 & 0.9860179\\\\\n",
       "\t  19 & 162 & 0.4649845\\\\\n",
       "\t   8 & 154 & 1.0000000\\\\\n",
       "\t  33 &   2 & 1.0000000\\\\\n",
       "\t 195 & 154 & 1.0000000\\\\\n",
       "\t 130 &  26 & 1.0000000\\\\\n",
       "\t  47 & 120 & 1.0000000\\\\\n",
       "\t  11 &  60 & 1.0000000\\\\\n",
       "\t 158 & 130 & 1.0000000\\\\\n",
       "\t  75 &   4 & 1.0000000\\\\\n",
       "\t  54 & 162 & 1.0000000\\\\\n",
       "\t  54 &  41 & 1.0000000\\\\\n",
       "\t  72 &  22 & 1.0000000\\\\\n",
       "\t  54 &  36 & 1.0000000\\\\\n",
       "\t  38 &  75 & 1.0000000\\\\\n",
       "\t 191 &  99 & 1.0000000\\\\\n",
       "\t 102 & 103 & 1.0000000\\\\\n",
       "\t 138 &  59 & 1.0000000\\\\\n",
       "\t  86 &  43 & 1.0000000\\\\\n",
       "\t  93 & 130 & 1.0000000\\\\\n",
       "\t 117 & 105 & 1.0000000\\\\\n",
       "\\end{tabular}\n"
      ],
      "text/markdown": [
       "\n",
       "A data.frame: 43056 × 3\n",
       "\n",
       "| tail &lt;dbl&gt; | head &lt;dbl&gt; | p &lt;dbl&gt; |\n",
       "|---|---|---|\n",
       "| 100 |  39 | 0.06521082 |\n",
       "|  25 | 138 | 0.06521082 |\n",
       "|  68 |  58 | 0.05331359 |\n",
       "|  47 |  38 | 0.05331359 |\n",
       "|  60 | 203 | 0.05331359 |\n",
       "|   9 | 189 | 0.06521082 |\n",
       "| 118 | 202 | 0.06521082 |\n",
       "| 108 |  60 | 0.05331359 |\n",
       "| 133 | 202 | 0.05331359 |\n",
       "|  32 |  25 | 0.06521082 |\n",
       "| 172 | 157 | 0.05331359 |\n",
       "| 196 | 156 | 0.06521082 |\n",
       "| 181 | 108 | 0.05331359 |\n",
       "| 173 | 204 | 0.05331359 |\n",
       "| 129 | 172 | 0.05331359 |\n",
       "|  73 | 193 | 0.06521082 |\n",
       "|  97 | 119 | 0.06521082 |\n",
       "|  40 | 203 | 0.05331359 |\n",
       "|  15 |  65 | 0.05331359 |\n",
       "|  94 | 151 | 0.06521082 |\n",
       "| 192 | 162 | 0.06521082 |\n",
       "| 193 | 173 | 0.06521082 |\n",
       "| 116 |  31 | 0.05331359 |\n",
       "| 162 | 173 | 0.06521082 |\n",
       "| 162 | 181 | 0.06521082 |\n",
       "| 182 | 205 | 0.06521082 |\n",
       "|  38 | 186 | 0.06521082 |\n",
       "| 161 | 192 | 0.06521082 |\n",
       "| 157 |  80 | 0.06521082 |\n",
       "| 143 |  52 | 0.05331359 |\n",
       "| ⋮ | ⋮ | ⋮ |\n",
       "| 103 | 175 | 1.0000000 |\n",
       "|   5 |  37 | 1.0000000 |\n",
       "|  84 | 132 | 1.0000000 |\n",
       "|  82 | 152 | 1.0000000 |\n",
       "| 152 | 165 | 1.0000000 |\n",
       "|  31 |  92 | 1.0000000 |\n",
       "| 159 |  89 | 0.1421104 |\n",
       "| 106 | 190 | 1.0000000 |\n",
       "|  37 | 165 | 1.0000000 |\n",
       "|  39 |  86 | 0.9860179 |\n",
       "|  19 | 162 | 0.4649845 |\n",
       "|   8 | 154 | 1.0000000 |\n",
       "|  33 |   2 | 1.0000000 |\n",
       "| 195 | 154 | 1.0000000 |\n",
       "| 130 |  26 | 1.0000000 |\n",
       "|  47 | 120 | 1.0000000 |\n",
       "|  11 |  60 | 1.0000000 |\n",
       "| 158 | 130 | 1.0000000 |\n",
       "|  75 |   4 | 1.0000000 |\n",
       "|  54 | 162 | 1.0000000 |\n",
       "|  54 |  41 | 1.0000000 |\n",
       "|  72 |  22 | 1.0000000 |\n",
       "|  54 |  36 | 1.0000000 |\n",
       "|  38 |  75 | 1.0000000 |\n",
       "| 191 |  99 | 1.0000000 |\n",
       "| 102 | 103 | 1.0000000 |\n",
       "| 138 |  59 | 1.0000000 |\n",
       "|  86 |  43 | 1.0000000 |\n",
       "|  93 | 130 | 1.0000000 |\n",
       "| 117 | 105 | 1.0000000 |\n",
       "\n"
      ],
      "text/plain": [
       "      tail head p         \n",
       "1     100   39  0.06521082\n",
       "2      25  138  0.06521082\n",
       "3      68   58  0.05331359\n",
       "4      47   38  0.05331359\n",
       "5      60  203  0.05331359\n",
       "6       9  189  0.06521082\n",
       "7     118  202  0.06521082\n",
       "8     108   60  0.05331359\n",
       "9     133  202  0.05331359\n",
       "10     32   25  0.06521082\n",
       "11    172  157  0.05331359\n",
       "12    196  156  0.06521082\n",
       "13    181  108  0.05331359\n",
       "14    173  204  0.05331359\n",
       "15    129  172  0.05331359\n",
       "16     73  193  0.06521082\n",
       "17     97  119  0.06521082\n",
       "18     40  203  0.05331359\n",
       "19     15   65  0.05331359\n",
       "20     94  151  0.06521082\n",
       "21    192  162  0.06521082\n",
       "22    193  173  0.06521082\n",
       "23    116   31  0.05331359\n",
       "24    162  173  0.06521082\n",
       "25    162  181  0.06521082\n",
       "26    182  205  0.06521082\n",
       "27     38  186  0.06521082\n",
       "28    161  192  0.06521082\n",
       "29    157   80  0.06521082\n",
       "30    143   52  0.05331359\n",
       "⋮     ⋮    ⋮    ⋮         \n",
       "43027 103  175  1.0000000 \n",
       "43028   5   37  1.0000000 \n",
       "43029  84  132  1.0000000 \n",
       "43030  82  152  1.0000000 \n",
       "43031 152  165  1.0000000 \n",
       "43032  31   92  1.0000000 \n",
       "43033 159   89  0.1421104 \n",
       "43034 106  190  1.0000000 \n",
       "43035  37  165  1.0000000 \n",
       "43036  39   86  0.9860179 \n",
       "43037  19  162  0.4649845 \n",
       "43038   8  154  1.0000000 \n",
       "43039  33    2  1.0000000 \n",
       "43040 195  154  1.0000000 \n",
       "43041 130   26  1.0000000 \n",
       "43042  47  120  1.0000000 \n",
       "43043  11   60  1.0000000 \n",
       "43044 158  130  1.0000000 \n",
       "43045  75    4  1.0000000 \n",
       "43046  54  162  1.0000000 \n",
       "43047  54   41  1.0000000 \n",
       "43048  72   22  1.0000000 \n",
       "43049  54   36  1.0000000 \n",
       "43050  38   75  1.0000000 \n",
       "43051 191   99  1.0000000 \n",
       "43052 102  103  1.0000000 \n",
       "43053 138   59  1.0000000 \n",
       "43054  86   43  1.0000000 \n",
       "43055  93  130  1.0000000 \n",
       "43056 117  105  1.0000000 "
      ]
     },
     "metadata": {},
     "output_type": "display_data"
    }
   ],
   "source": [
    "edge_probabilities <- predict(model, type = \"response\")\n",
    "edge_probabilities"
   ]
  },
  {
   "cell_type": "code",
   "execution_count": 208,
   "metadata": {
    "vscode": {
     "languageId": "r"
    }
   },
   "outputs": [],
   "source": [
    "# gwdegree_coefficient <- summary(model)$coefficients['gwdegree']\n",
    "# gwdegree_coefficient"
   ]
  },
  {
   "cell_type": "code",
   "execution_count": 209,
   "metadata": {
    "vscode": {
     "languageId": "r"
    }
   },
   "outputs": [
    {
     "name": "stdout",
     "output_type": "stream",
     "text": [
      "                          Estimate   Std. Error MCMC %    z value     Pr(>|z|)\n",
      "edges                -2.662696e+00 3.417419e-02      0 -77.915401 0.0000000000\n",
      "nodematch.section_no -2.140809e-01 5.631867e-02      0  -3.801242 0.0001439725\n",
      "edgecov.value         9.218233e+09 1.093276e+08      0  84.317499 0.0000000000\n"
     ]
    }
   ],
   "source": [
    "ergm_coefficients <- summary(model)$coefficients\n",
    "print(ergm_coefficients)"
   ]
  },
  {
   "cell_type": "markdown",
   "metadata": {},
   "source": [
    "## 2019 dataset"
   ]
  },
  {
   "cell_type": "code",
   "execution_count": 210,
   "metadata": {
    "vscode": {
     "languageId": "r"
    }
   },
   "outputs": [],
   "source": [
    "# Simulate networks\n",
    "simulated_networks <- simulate(model, nsim = 100, output = \"network\")\n",
    "\n",
    "# Extract predicted links\n",
    "predicted_links <- as.data.frame(simulated_networks[[1]], directed = TRUE)\n"
   ]
  },
  {
   "cell_type": "code",
   "execution_count": 211,
   "metadata": {
    "vscode": {
     "languageId": "r"
    }
   },
   "outputs": [],
   "source": [
    "predicted_probabilities <- predict(model,type=\"response\", output = \"matrix\")\n",
    "#predicted_probabilities"
   ]
  },
  {
   "cell_type": "code",
   "execution_count": 212,
   "metadata": {
    "vscode": {
     "languageId": "r"
    }
   },
   "outputs": [
    {
     "data": {
      "text/html": [
       "<table class=\"dataframe\">\n",
       "<caption>A matrix: 6 × 208 of type dbl</caption>\n",
       "<thead>\n",
       "\t<tr><th></th><th scope=col>ABW</th><th scope=col>AFG</th><th scope=col>AGO</th><th scope=col>ALB</th><th scope=col>AND</th><th scope=col>ARE</th><th scope=col>ARG</th><th scope=col>ARM</th><th scope=col>ASM</th><th scope=col>ATG</th><th scope=col>⋯</th><th scope=col>VCT</th><th scope=col>VEN</th><th scope=col>VGB</th><th scope=col>VNM</th><th scope=col>VUT</th><th scope=col>WSM</th><th scope=col>YEM</th><th scope=col>ZAF</th><th scope=col>ZMB</th><th scope=col>ZWE</th></tr>\n",
       "</thead>\n",
       "<tbody>\n",
       "\t<tr><th scope=row>ABW</th><td>0.00000000</td><td>0.06521082</td><td>0.05331359</td><td>0.06521082</td><td>0.06521082</td><td>1.00000000</td><td>1.0000000</td><td>0.05331359</td><td>0.05331359</td><td>0.05331359</td><td>⋯</td><td>0.05331359</td><td>0.05331359</td><td>0.05331359</td><td>0.06521082</td><td>0.05331359</td><td>0.05331359</td><td>1.00000000</td><td>1.0000000</td><td>1.00000000</td><td>0.06521082</td></tr>\n",
       "\t<tr><th scope=row>AFG</th><td>0.06521082</td><td>0.00000000</td><td>0.25403918</td><td>0.05331359</td><td>0.06521082</td><td>1.00000000</td><td>1.0000000</td><td>1.00000000</td><td>0.06521082</td><td>0.06521082</td><td>⋯</td><td>0.06521082</td><td>0.06521082</td><td>0.06521082</td><td>0.06521082</td><td>0.06521082</td><td>0.06521082</td><td>1.00000000</td><td>1.0000000</td><td>1.00000000</td><td>1.00000000</td></tr>\n",
       "\t<tr><th scope=row>AGO</th><td>0.05331359</td><td>0.99999153</td><td>0.00000000</td><td>1.00000000</td><td>1.00000000</td><td>0.06974409</td><td>1.0000000</td><td>1.00000000</td><td>1.00000000</td><td>0.33655561</td><td>⋯</td><td>0.05331359</td><td>1.00000000</td><td>0.05331359</td><td>1.00000000</td><td>0.05331359</td><td>0.05331359</td><td>0.06521082</td><td>0.1256606</td><td>1.00000000</td><td>1.00000000</td></tr>\n",
       "\t<tr><th scope=row>ALB</th><td>0.06521082</td><td>0.05331359</td><td>0.99999212</td><td>0.00000000</td><td>1.00000000</td><td>0.99999998</td><td>0.9996277</td><td>1.00000000</td><td>0.06521082</td><td>0.06521082</td><td>⋯</td><td>0.06521082</td><td>0.06521082</td><td>0.06521082</td><td>0.06521082</td><td>0.06521082</td><td>0.06521082</td><td>1.00000000</td><td>1.0000000</td><td>0.06521082</td><td>1.00000000</td></tr>\n",
       "\t<tr><th scope=row>AND</th><td>0.06521082</td><td>0.92839444</td><td>0.95550082</td><td>0.06521082</td><td>0.00000000</td><td>1.00000000</td><td>1.0000000</td><td>1.00000000</td><td>0.06521082</td><td>0.06521082</td><td>⋯</td><td>0.06521082</td><td>0.06521082</td><td>0.06521082</td><td>1.00000000</td><td>0.06521082</td><td>0.06521082</td><td>1.00000000</td><td>1.0000000</td><td>1.00000000</td><td>1.00000000</td></tr>\n",
       "\t<tr><th scope=row>ARE</th><td>1.00000000</td><td>1.00000000</td><td>1.00000000</td><td>1.00000000</td><td>1.00000000</td><td>0.00000000</td><td>1.0000000</td><td>1.00000000</td><td>0.06521082</td><td>1.00000000</td><td>⋯</td><td>1.00000000</td><td>1.00000000</td><td>1.00000000</td><td>1.00000000</td><td>1.00000000</td><td>1.00000000</td><td>1.00000000</td><td>1.0000000</td><td>1.00000000</td><td>1.00000000</td></tr>\n",
       "</tbody>\n",
       "</table>\n"
      ],
      "text/latex": [
       "A matrix: 6 × 208 of type dbl\n",
       "\\begin{tabular}{r|lllllllllllllllllllll}\n",
       "  & ABW & AFG & AGO & ALB & AND & ARE & ARG & ARM & ASM & ATG & ⋯ & VCT & VEN & VGB & VNM & VUT & WSM & YEM & ZAF & ZMB & ZWE\\\\\n",
       "\\hline\n",
       "\tABW & 0.00000000 & 0.06521082 & 0.05331359 & 0.06521082 & 0.06521082 & 1.00000000 & 1.0000000 & 0.05331359 & 0.05331359 & 0.05331359 & ⋯ & 0.05331359 & 0.05331359 & 0.05331359 & 0.06521082 & 0.05331359 & 0.05331359 & 1.00000000 & 1.0000000 & 1.00000000 & 0.06521082\\\\\n",
       "\tAFG & 0.06521082 & 0.00000000 & 0.25403918 & 0.05331359 & 0.06521082 & 1.00000000 & 1.0000000 & 1.00000000 & 0.06521082 & 0.06521082 & ⋯ & 0.06521082 & 0.06521082 & 0.06521082 & 0.06521082 & 0.06521082 & 0.06521082 & 1.00000000 & 1.0000000 & 1.00000000 & 1.00000000\\\\\n",
       "\tAGO & 0.05331359 & 0.99999153 & 0.00000000 & 1.00000000 & 1.00000000 & 0.06974409 & 1.0000000 & 1.00000000 & 1.00000000 & 0.33655561 & ⋯ & 0.05331359 & 1.00000000 & 0.05331359 & 1.00000000 & 0.05331359 & 0.05331359 & 0.06521082 & 0.1256606 & 1.00000000 & 1.00000000\\\\\n",
       "\tALB & 0.06521082 & 0.05331359 & 0.99999212 & 0.00000000 & 1.00000000 & 0.99999998 & 0.9996277 & 1.00000000 & 0.06521082 & 0.06521082 & ⋯ & 0.06521082 & 0.06521082 & 0.06521082 & 0.06521082 & 0.06521082 & 0.06521082 & 1.00000000 & 1.0000000 & 0.06521082 & 1.00000000\\\\\n",
       "\tAND & 0.06521082 & 0.92839444 & 0.95550082 & 0.06521082 & 0.00000000 & 1.00000000 & 1.0000000 & 1.00000000 & 0.06521082 & 0.06521082 & ⋯ & 0.06521082 & 0.06521082 & 0.06521082 & 1.00000000 & 0.06521082 & 0.06521082 & 1.00000000 & 1.0000000 & 1.00000000 & 1.00000000\\\\\n",
       "\tARE & 1.00000000 & 1.00000000 & 1.00000000 & 1.00000000 & 1.00000000 & 0.00000000 & 1.0000000 & 1.00000000 & 0.06521082 & 1.00000000 & ⋯ & 1.00000000 & 1.00000000 & 1.00000000 & 1.00000000 & 1.00000000 & 1.00000000 & 1.00000000 & 1.0000000 & 1.00000000 & 1.00000000\\\\\n",
       "\\end{tabular}\n"
      ],
      "text/markdown": [
       "\n",
       "A matrix: 6 × 208 of type dbl\n",
       "\n",
       "| <!--/--> | ABW | AFG | AGO | ALB | AND | ARE | ARG | ARM | ASM | ATG | ⋯ | VCT | VEN | VGB | VNM | VUT | WSM | YEM | ZAF | ZMB | ZWE |\n",
       "|---|---|---|---|---|---|---|---|---|---|---|---|---|---|---|---|---|---|---|---|---|---|\n",
       "| ABW | 0.00000000 | 0.06521082 | 0.05331359 | 0.06521082 | 0.06521082 | 1.00000000 | 1.0000000 | 0.05331359 | 0.05331359 | 0.05331359 | ⋯ | 0.05331359 | 0.05331359 | 0.05331359 | 0.06521082 | 0.05331359 | 0.05331359 | 1.00000000 | 1.0000000 | 1.00000000 | 0.06521082 |\n",
       "| AFG | 0.06521082 | 0.00000000 | 0.25403918 | 0.05331359 | 0.06521082 | 1.00000000 | 1.0000000 | 1.00000000 | 0.06521082 | 0.06521082 | ⋯ | 0.06521082 | 0.06521082 | 0.06521082 | 0.06521082 | 0.06521082 | 0.06521082 | 1.00000000 | 1.0000000 | 1.00000000 | 1.00000000 |\n",
       "| AGO | 0.05331359 | 0.99999153 | 0.00000000 | 1.00000000 | 1.00000000 | 0.06974409 | 1.0000000 | 1.00000000 | 1.00000000 | 0.33655561 | ⋯ | 0.05331359 | 1.00000000 | 0.05331359 | 1.00000000 | 0.05331359 | 0.05331359 | 0.06521082 | 0.1256606 | 1.00000000 | 1.00000000 |\n",
       "| ALB | 0.06521082 | 0.05331359 | 0.99999212 | 0.00000000 | 1.00000000 | 0.99999998 | 0.9996277 | 1.00000000 | 0.06521082 | 0.06521082 | ⋯ | 0.06521082 | 0.06521082 | 0.06521082 | 0.06521082 | 0.06521082 | 0.06521082 | 1.00000000 | 1.0000000 | 0.06521082 | 1.00000000 |\n",
       "| AND | 0.06521082 | 0.92839444 | 0.95550082 | 0.06521082 | 0.00000000 | 1.00000000 | 1.0000000 | 1.00000000 | 0.06521082 | 0.06521082 | ⋯ | 0.06521082 | 0.06521082 | 0.06521082 | 1.00000000 | 0.06521082 | 0.06521082 | 1.00000000 | 1.0000000 | 1.00000000 | 1.00000000 |\n",
       "| ARE | 1.00000000 | 1.00000000 | 1.00000000 | 1.00000000 | 1.00000000 | 0.00000000 | 1.0000000 | 1.00000000 | 0.06521082 | 1.00000000 | ⋯ | 1.00000000 | 1.00000000 | 1.00000000 | 1.00000000 | 1.00000000 | 1.00000000 | 1.00000000 | 1.0000000 | 1.00000000 | 1.00000000 |\n",
       "\n"
      ],
      "text/plain": [
       "    ABW        AFG        AGO        ALB        AND        ARE        ARG      \n",
       "ABW 0.00000000 0.06521082 0.05331359 0.06521082 0.06521082 1.00000000 1.0000000\n",
       "AFG 0.06521082 0.00000000 0.25403918 0.05331359 0.06521082 1.00000000 1.0000000\n",
       "AGO 0.05331359 0.99999153 0.00000000 1.00000000 1.00000000 0.06974409 1.0000000\n",
       "ALB 0.06521082 0.05331359 0.99999212 0.00000000 1.00000000 0.99999998 0.9996277\n",
       "AND 0.06521082 0.92839444 0.95550082 0.06521082 0.00000000 1.00000000 1.0000000\n",
       "ARE 1.00000000 1.00000000 1.00000000 1.00000000 1.00000000 0.00000000 1.0000000\n",
       "    ARM        ASM        ATG        ⋯ VCT        VEN        VGB       \n",
       "ABW 0.05331359 0.05331359 0.05331359 ⋯ 0.05331359 0.05331359 0.05331359\n",
       "AFG 1.00000000 0.06521082 0.06521082 ⋯ 0.06521082 0.06521082 0.06521082\n",
       "AGO 1.00000000 1.00000000 0.33655561 ⋯ 0.05331359 1.00000000 0.05331359\n",
       "ALB 1.00000000 0.06521082 0.06521082 ⋯ 0.06521082 0.06521082 0.06521082\n",
       "AND 1.00000000 0.06521082 0.06521082 ⋯ 0.06521082 0.06521082 0.06521082\n",
       "ARE 1.00000000 0.06521082 1.00000000 ⋯ 1.00000000 1.00000000 1.00000000\n",
       "    VNM        VUT        WSM        YEM        ZAF       ZMB        ZWE       \n",
       "ABW 0.06521082 0.05331359 0.05331359 1.00000000 1.0000000 1.00000000 0.06521082\n",
       "AFG 0.06521082 0.06521082 0.06521082 1.00000000 1.0000000 1.00000000 1.00000000\n",
       "AGO 1.00000000 0.05331359 0.05331359 0.06521082 0.1256606 1.00000000 1.00000000\n",
       "ALB 0.06521082 0.06521082 0.06521082 1.00000000 1.0000000 0.06521082 1.00000000\n",
       "AND 1.00000000 0.06521082 0.06521082 1.00000000 1.0000000 1.00000000 1.00000000\n",
       "ARE 1.00000000 1.00000000 1.00000000 1.00000000 1.0000000 1.00000000 1.00000000"
      ]
     },
     "metadata": {},
     "output_type": "display_data"
    }
   ],
   "source": [
    "head(predicted_probabilities)"
   ]
  },
  {
   "cell_type": "code",
   "execution_count": 213,
   "metadata": {
    "vscode": {
     "languageId": "r"
    }
   },
   "outputs": [],
   "source": [
    "data_2019 <- read.csv(\"edge_data_2019_normalized.csv\")\n",
    "data_2019_clean <- data_2019[data_2019$exporter_id != data_2019$importer_id, ]\n",
    "library(dplyr)\n",
    "data_aggregated_2019 <- data_2019_clean %>%\n",
    "group_by(exporter_id, importer_id, ) %>%\n",
    "summarise(value = sum(value,na.rm = TRUE), .groups = 'drop')\n",
    "trade_network_2019<-network(data_aggregated_2019,directed=TRUE,vertices=NULL,matrix.type=\"edgelist\",ignore.eval=FALSE)\n",
    "set.edge.value(trade_network_2019, \"value\", data_2019_clean$value)\n",
    "set.edge.value(trade_network_2019, \"section_no\", data_2019_clean$section_no)\n",
    "set.edge.value(trade_network_2019, \"year\", data_2019_clean$year)\n"
   ]
  },
  {
   "cell_type": "code",
   "execution_count": 227,
   "metadata": {
    "vscode": {
     "languageId": "r"
    }
   },
   "outputs": [
    {
     "name": "stdout",
     "output_type": "stream",
     "text": [
      "            actual_links\n",
      "predic_links     0     1\n",
      "       FALSE 12939  4014\n",
      "       TRUE   1871 24440\n"
     ]
    }
   ],
   "source": [
    "predic_links<- predicted_probabilities>0.5\n",
    "\n",
    "actual_links<-as.matrix(trade_network_2019)\n",
    "evaluations<-table(predic_links,actual_links)\n",
    "print(evaluations)"
   ]
  },
  {
   "cell_type": "code",
   "execution_count": 247,
   "metadata": {
    "vscode": {
     "languageId": "r"
    }
   },
   "outputs": [
    {
     "data": {
      "image/png": "[encoded data removed]",
      "text/plain": [
       "plot without title"
      ]
     },
     "metadata": {
      "image/png": {
       "height": 420,
       "width": 420
      }
     },
     "output_type": "display_data"
    }
   ],
   "source": [
    "evaluations_df <- as.data.frame(as.table(evaluations))\n",
    "colnames(evaluations_df) <- c(\"Predicted\", \"Actual\", \"Count\")\n",
    "\n",
    "# Create the heatmap with values displayed\n",
    "ggplot(evaluations_df, aes(x = Actual, y = Predicted, fill = Count)) +\n",
    "  geom_tile(color = \"black\") +  # Add a border around tiles\n",
    "  scale_fill_gradient(low = \"darkblue\", high = \"lightblue\", name = \"Count\") +  # Set color gradient\n",
    "  geom_text(aes(label = Count), color = \"black\", size = 5) +  # Add values in each box\n",
    "  labs(title = \"Heatmap of Predictions vs Actual Links\",\n",
    "       x = \"Actual Links\",\n",
    "       y = \"Predicted Links\") +\n",
    "  theme_minimal(base_size = 14) +  # Use a clean theme with larger text\n",
    "  theme(axis.text.x = element_text(angle = 45, hjust = 1)) "
   ]
  },
  {
   "cell_type": "code",
   "execution_count": 228,
   "metadata": {
    "vscode": {
     "languageId": "r"
    }
   },
   "outputs": [
    {
     "name": "stdout",
     "output_type": "stream",
     "text": [
      "[1] 0.8639747\n"
     ]
    }
   ],
   "source": [
    "# give accuracym, total no of correct predictions, no of false predictins\n",
    "accuracy<-sum(diag(evaluations))/sum(evaluations)\n",
    "print(accuracy)"
   ]
  },
  {
   "cell_type": "code",
   "execution_count": 229,
   "metadata": {
    "vscode": {
     "languageId": "r"
    }
   },
   "outputs": [
    {
     "data": {
      "text/html": [
       "28454"
      ],
      "text/latex": [
       "28454"
      ],
      "text/markdown": [
       "28454"
      ],
      "text/plain": [
       "[1] 28454"
      ]
     },
     "metadata": {},
     "output_type": "display_data"
    }
   ],
   "source": [
    "# total actual links\n",
    "total_actual_links<-sum(actual_links)\n",
    "total_actual_links\n"
   ]
  },
  {
   "cell_type": "code",
   "execution_count": 230,
   "metadata": {
    "vscode": {
     "languageId": "r"
    }
   },
   "outputs": [
    {
     "data": {
      "text/html": [
       "26311"
      ],
      "text/latex": [
       "26311"
      ],
      "text/markdown": [
       "26311"
      ],
      "text/plain": [
       "[1] 26311"
      ]
     },
     "metadata": {},
     "output_type": "display_data"
    }
   ],
   "source": [
    "# total predicted links\n",
    "total_predicted_links<-sum(predic_links)\n",
    "total_predicted_links"
   ]
  },
  {
   "cell_type": "code",
   "execution_count": 177,
   "metadata": {
    "vscode": {
     "languageId": "r"
    }
   },
   "outputs": [],
   "source": [
    "predic_links_prob1<-as.vector(predicted_probabilities)\n",
    "actual_links_prob1<-as.vector(actual_links)\n"
   ]
  },
  {
   "cell_type": "code",
   "execution_count": 178,
   "metadata": {
    "vscode": {
     "languageId": "r"
    }
   },
   "outputs": [],
   "source": [
    "valid_indices<-!is.na(actual_links_prob1) & !is.na(predic_links_prob1)  \n",
    "actual_links_prob1<-actual_links_prob1[valid_indices]   \n",
    "predic_links_prob1<-predic_links_prob1[valid_indices]"
   ]
  },
  {
   "cell_type": "code",
   "execution_count": 179,
   "metadata": {
    "vscode": {
     "languageId": "r"
    }
   },
   "outputs": [
    {
     "name": "stderr",
     "output_type": "stream",
     "text": [
      "Setting levels: control = 0, case = 1\n",
      "\n",
      "Setting direction: controls < cases\n",
      "\n"
     ]
    },
    {
     "data": {
      "text/plain": [
       "\n",
       "Call:\n",
       "roc.default(response = actual_links_prob1, predictor = predic_links_prob1)\n",
       "\n",
       "Data: predic_links_prob1 in 14810 controls (actual_links_prob1 0) < 28454 cases (actual_links_prob1 1).\n",
       "Area under the curve: 0.8841"
      ]
     },
     "metadata": {},
     "output_type": "display_data"
    }
   ],
   "source": [
    "roc_data<-roc(actual_links_prob1,predic_links_prob1)\n",
    "roc_data"
   ]
  },
  {
   "cell_type": "code",
   "execution_count": 180,
   "metadata": {
    "vscode": {
     "languageId": "r"
    }
   },
   "outputs": [
    {
     "data": {
      "text/html": [
       "0.884144912904665"
      ],
      "text/latex": [
       "0.884144912904665"
      ],
      "text/markdown": [
       "0.884144912904665"
      ],
      "text/plain": [
       "Area under the curve: 0.8841"
      ]
     },
     "metadata": {},
     "output_type": "display_data"
    }
   ],
   "source": [
    "auc_value <- auc(roc_curve)\n",
    "auc_value\n"
   ]
  },
  {
   "cell_type": "code",
   "execution_count": 251,
   "metadata": {
    "vscode": {
     "languageId": "r"
    }
   },
   "outputs": [
    {
     "data": {
      "image/png": "[encoded data removed]",
      "text/plain": [
       "Plot with title \"ROC Curve for ERGM Link Prediction\""
      ]
     },
     "metadata": {
      "image/png": {
       "height": 420,
       "width": 420
      }
     },
     "output_type": "display_data"
    }
   ],
   "source": [
    "plot(\n",
    "  roc_curve,\n",
    "  main = \"ROC Curve for ERGM Link Prediction\",\n",
    "  col = \"blue\",\n",
    "  lwd = 1\n",
    ")\n"
   ]
  },
  {
   "cell_type": "code",
   "execution_count": 238,
   "metadata": {
    "vscode": {
     "languageId": "r"
    }
   },
   "outputs": [
    {
     "data": {
      "image/png": "[encoded data removed]",
      "text/plain": [
       "Plot with title \"Trade Network (Green: Correct Prediction, Red: Incorrect Prediction)\""
      ]
     },
     "metadata": {
      "image/png": {
       "height": 420,
       "width": 420
      }
     },
     "output_type": "display_data"
    }
   ],
   "source": [
    "g <- graph_from_edgelist(as.matrix(data_aggregated_2019[, c(\"exporter_id\", \"importer_id\")]), directed = TRUE)\n",
    "\n",
    "# Step 7: Compare predicted links with actual links and assign edge colors\n",
    "# Here, actual_links and predic_links should have the same structure: a vector or matrix of binary values (0 or 1)\n",
    "# Create a vector to store the edge colors (green for correct, red for incorrect)\n",
    "edge_colors <- ifelse(predic_links == actual_links, \"green\", \"red\")\n",
    "\n",
    "# Step 8: Plot the graph with color-coded edges\n",
    "plot(g, edge.color = edge_colors, \n",
    "     main = \"Trade Network (Green: Correct Prediction, Red: Incorrect Prediction)\",\n",
    "     edge.arrow.size = 0.0, \n",
    "     vertex.size = 5, \n",
    "     vertex.label.cex = 0.7)"
   ]
  },
  {
   "cell_type": "markdown",
   "metadata": {},
   "source": [
    "## COMPARING WITHOUT PROBABILITIES"
   ]
  },
  {
   "cell_type": "code",
   "execution_count": 182,
   "metadata": {
    "vscode": {
     "languageId": "r"
    }
   },
   "outputs": [],
   "source": [
    "\n",
    "actual_links <- as.data.frame(trade_network_2019, what = \"edges\")\n",
    "\n",
    "# Ensure unique rows (remove duplicates if any)\n",
    "actual_links <- unique(actual_links)\n"
   ]
  },
  {
   "cell_type": "code",
   "execution_count": 183,
   "metadata": {
    "vscode": {
     "languageId": "r"
    }
   },
   "outputs": [],
   "source": [
    "# # Convert the predicted links to data frame if not already\n",
    "predicted_links_df <- as.data.frame(predicted_links)\n",
    "# predicted<-as.data.frame(predicted)\n",
    "\n",
    "\n"
   ]
  },
  {
   "cell_type": "code",
   "execution_count": 184,
   "metadata": {
    "vscode": {
     "languageId": "r"
    }
   },
   "outputs": [],
   "source": [
    "# Remove duplicate rows from predicted links\n",
    " predicted_links_df <- unique(predicted_links_df)"
   ]
  },
  {
   "cell_type": "code",
   "execution_count": 185,
   "metadata": {
    "vscode": {
     "languageId": "r"
    }
   },
   "outputs": [],
   "source": [
    "colnames(predicted_links_df) <- c(\"exporter_id\", \"importer_id\")\n",
    "colnames(actual_links) <- c(\"exporter_id\", \"importer_id\")\n",
    "\n",
    "# Ensure the 'exporter_id' and 'importer_id' columns are of the same type\n",
    "predicted_links_df$exporter_id <- as.character(predicted_links_df$exporter_id)\n",
    "predicted_links_df$importer_id <- as.character(predicted_links_df$importer_id)\n",
    "actual_links$exporter_id <- as.character(actual_links$exporter_id)\n",
    "actual_links$importer_id <- as.character(actual_links$importer_id)"
   ]
  },
  {
   "cell_type": "code",
   "execution_count": 186,
   "metadata": {
    "vscode": {
     "languageId": "r"
    }
   },
   "outputs": [
    {
     "name": "stdout",
     "output_type": "stream",
     "text": [
      "Correct Predictions:  25169 \n",
      "Total Actual Links:  28454 \n",
      "Precision:  0.9192141 \n",
      "Recall:  0.8845505 \n",
      "F1-Score:  0.9015492 \n"
     ]
    }
   ],
   "source": [
    "# Merge the predicted and actual links by exporter_id and importer_id\n",
    "comparison <- merge(predicted_links_df, actual_links, by = c(\"exporter_id\", \"importer_id\"))\n",
    "\n",
    "# Number of correct predictions (links that are in both predicted and actual)\n",
    "correct_predictions <- nrow(comparison)\n",
    "\n",
    "# Total number of links in the actual data\n",
    "total_actual_links <- nrow(actual_links)\n",
    "\n",
    "# Precision, Recall, and F1-Score\n",
    "precision <- correct_predictions / nrow(predicted_links_df)\n",
    "recall <- correct_predictions / total_actual_links\n",
    "f1_score <- 2 * (precision * recall) / (precision + recall)\n",
    "\n",
    "# Print the comparison results\n",
    "cat(\"Correct Predictions: \", correct_predictions, \"\\n\")\n",
    "cat(\"Total Actual Links: \", total_actual_links, \"\\n\")\n",
    "cat(\"Precision: \", precision, \"\\n\")\n",
    "cat(\"Recall: \", recall, \"\\n\")\n",
    "cat(\"F1-Score: \", f1_score, \"\\n\")\n",
    "\n"
   ]
  },
  {
   "cell_type": "code",
   "execution_count": 234,
   "metadata": {
    "vscode": {
     "languageId": "r"
    }
   },
   "outputs": [
    {
     "data": {
      "text/html": [
       "0"
      ],
      "text/latex": [
       "0"
      ],
      "text/markdown": [
       "0"
      ],
      "text/plain": [
       "[1] 0"
      ]
     },
     "metadata": {},
     "output_type": "display_data"
    },
    {
     "data": {
      "text/html": [
       "0"
      ],
      "text/latex": [
       "0"
      ],
      "text/markdown": [
       "0"
      ],
      "text/plain": [
       "[1] 0"
      ]
     },
     "metadata": {},
     "output_type": "display_data"
    }
   ],
   "source": [
    "sum(is.na(comparison$actual))  # Should be 0\n",
    "sum(is.na(comparison$probability)) "
   ]
  },
  {
   "cell_type": "code",
   "execution_count": 188,
   "metadata": {
    "vscode": {
     "languageId": "r"
    }
   },
   "outputs": [
    {
     "data": {
      "image/png": "[encoded data removed]",
      "text/plain": [
       "Plot with title \"Trade Network Predictions (Green: Correct, Red: Incorrect)\""
      ]
     },
     "metadata": {
      "image/png": {
       "height": 420,
       "width": 420
      }
     },
     "output_type": "display_data"
    }
   ],
   "source": [
    "library(igraph)\n",
    "\n",
    "# Load and check data\n",
    "predicted_links_df$exporter_id <- as.character(predicted_links_df$exporter_id)\n",
    "predicted_links_df$importer_id <- as.character(predicted_links_df$importer_id)\n",
    "actual_links$exporter_id <- as.character(actual_links$exporter_id)\n",
    "actual_links$importer_id <- as.character(actual_links$importer_id)\n",
    "\n",
    "# Remove missing values\n",
    "predicted_links_df <- na.omit(predicted_links_df)\n",
    "actual_links <- na.omit(actual_links)\n",
    "\n",
    "# Merge correct predictions\n",
    "comparison <- merge(predicted_links_df, actual_links, by = c(\"exporter_id\", \"importer_id\"))\n",
    "correct_links <- comparison[, c(\"exporter_id\", \"importer_id\")]\n",
    "incorrect_links <- setdiff(predicted_links_df[, c(\"exporter_id\", \"importer_id\")], correct_links)\n",
    "\n",
    "# Combine all unique vertices\n",
    "all_nodes <- unique(c(correct_links$exporter_id, correct_links$importer_id, \n",
    "                      incorrect_links$exporter_id, incorrect_links$importer_id))\n",
    "\n",
    "# Create graph (undirected)\n",
    "trade_igraph <- make_empty_graph(n = length(all_nodes), directed = FALSE)\n",
    "V(trade_igraph)$name <- all_nodes\n",
    "\n",
    "# Add correct edges with green color\n",
    "if (nrow(correct_links) > 0) {\n",
    "  trade_igraph <- add_edges(\n",
    "    trade_igraph, \n",
    "    t(as.matrix(correct_links)), \n",
    "    color = \"green\",  # Correct edges are green\n",
    "    width = 1        # Default width for correct edges\n",
    "  )\n",
    "}\n",
    "\n",
    "# Add incorrect edges with red color\n",
    "if (nrow(incorrect_links) > 0) {\n",
    "  trade_igraph <- add_edges(\n",
    "    trade_igraph, \n",
    "    t(as.matrix(incorrect_links)), \n",
    "    color = \"red\",    # Incorrect edges are red\n",
    "    width = -1.0   # Highlight incorrect edges with a larger width\n",
    "  )\n",
    "}\n",
    "\n",
    "# Set vertex color to black\n",
    "V(trade_igraph)$color <- \"black\"\n",
    "\n",
    "# Plot graph with improved layout, no arrows\n",
    "plot(\n",
    "  trade_igraph,\n",
    "  main = \"Trade Network Predictions (Green: Correct, Red: Incorrect)\",\n",
    "  edge.color = E(trade_igraph)$color,\n",
    "  edge.width = E(trade_igraph)$width,\n",
    "  vertex.size = 5,\n",
    "  vertex.label.cex = 0.7,\n",
    "  vertex.label.color = \"black\",\n",
    "  vertex.color = V(trade_igraph)$color,\n",
    "  layout = layout_with_fr(trade_igraph),\n",
    "  edge.arrow.size = 0  # Remove arrows\n",
    ")\n",
    "\n",
    "# Add legend for clarity\n",
    "legend(\n",
    "  \"topright\",\n",
    "  legend = c(\"Correct Predictions\", \"Incorrect Predictions\"),\n",
    "  col = c(\"green\", \"red\"),\n",
    "  lty = 1,\n",
    "  lwd = 2,\n",
    "  bty = \"n\"\n",
    ")"
   ]
  },
  {
   "cell_type": "code",
   "execution_count": 146,
   "metadata": {
    "vscode": {
     "languageId": "r"
    }
   },
   "outputs": [
    {
     "name": "stdout",
     "output_type": "stream",
     "text": [
      "Number of Correct Predictions: 25101 \n",
      "Number of Incorrect Predictions: 2252 \n"
     ]
    },
    {
     "data": {
      "image/png": "[encoded data removed]",
      "text/plain": [
       "Plot with title \"Trade Network Predictions (Green: Correct, Red: Incorrect)\""
      ]
     },
     "metadata": {
      "image/png": {
       "height": 420,
       "width": 420
      }
     },
     "output_type": "display_data"
    }
   ],
   "source": [
    "library(igraph)\n",
    "\n",
    "# Load and check data\n",
    "predicted_links_df$exporter_id <- as.character(predicted_links_df$exporter_id)\n",
    "predicted_links_df$importer_id <- as.character(predicted_links_df$importer_id)\n",
    "actual_links$exporter_id <- as.character(actual_links$exporter_id)\n",
    "actual_links$importer_id <- as.character(actual_links$importer_id)\n",
    "\n",
    "# Remove missing values\n",
    "predicted_links_df <- na.omit(predicted_links_df)\n",
    "actual_links <- na.omit(actual_links)\n",
    "\n",
    "# Merge correct predictions\n",
    "comparison <- merge(predicted_links_df, actual_links, by = c(\"exporter_id\", \"importer_id\"))\n",
    "correct_links <- comparison[, c(\"exporter_id\", \"importer_id\")]\n",
    "incorrect_links <- setdiff(predicted_links_df[, c(\"exporter_id\", \"importer_id\")], correct_links)\n",
    "\n",
    "# Print the number of correct and incorrect predictions\n",
    "cat(\"Number of Correct Predictions:\", nrow(correct_links), \"\\n\")\n",
    "cat(\"Number of Incorrect Predictions:\", nrow(incorrect_links), \"\\n\")\n",
    "\n",
    "# Combine all unique vertices\n",
    "all_nodes <- unique(c(correct_links$exporter_id, correct_links$importer_id, \n",
    "                      incorrect_links$exporter_id, incorrect_links$importer_id))\n",
    "\n",
    "# Create graph (undirected)\n",
    "trade_igraph <- make_empty_graph(n = length(all_nodes), directed = FALSE)\n",
    "V(trade_igraph)$name <- all_nodes\n",
    "\n",
    "# Add correct edges with green color\n",
    "if (nrow(correct_links) > 0) {\n",
    "  trade_igraph <- add_edges(\n",
    "    trade_igraph, \n",
    "    t(as.matrix(correct_links)), \n",
    "    color = \"green\",  # Correct edges are green\n",
    "    width = 1         # Default width for correct edges\n",
    "  )\n",
    "}\n",
    "\n",
    "# Add incorrect edges with red color\n",
    "if (nrow(incorrect_links) > 0) {\n",
    "  trade_igraph <- add_edges(\n",
    "    trade_igraph, \n",
    "    t(as.matrix(incorrect_links)), \n",
    "    color = \"red\",    # Incorrect edges are red\n",
    "    width = 0.2    # Highlight incorrect edges with a larger width\n",
    "  )\n",
    "}\n",
    "\n",
    "# Set vertex color to black\n",
    "V(trade_igraph)$color <- \"black\"\n",
    "\n",
    "# Plot graph with improved layout, no arrows\n",
    "plot(\n",
    "  trade_igraph,\n",
    "  main = \"Trade Network Predictions (Green: Correct, Red: Incorrect)\",\n",
    "  edge.color = E(trade_igraph)$color,\n",
    "  edge.width = E(trade_igraph)$width,\n",
    "  vertex.size = 5,\n",
    "  vertex.label.cex = 0.7,\n",
    "  vertex.label.color = \"black\",\n",
    "  vertex.color = V(trade_igraph)$color,\n",
    "  layout = layout_with_fr(trade_igraph),\n",
    "  edge.arrow.size = 0  # Remove arrows\n",
    ")\n",
    "\n",
    "# Add legend for clarity\n",
    "legend(\n",
    "  \"topright\",\n",
    "  legend = c(\"Correct Predictions\", \"Incorrect Predictions\"),\n",
    "  col = c(\"green\", \"red\"),\n",
    "  lty = 1,\n",
    "  lwd = 2,\n",
    "  bty = \"n\"\n",
    ")"
   ]
  },
  {
   "cell_type": "code",
   "execution_count": null,
   "metadata": {
    "vscode": {
     "languageId": "r"
    }
   },
   "outputs": [],
   "source": []
  }
 ],
 "metadata": {
  "kernelspec": {
   "display_name": "R",
   "language": "R",
   "name": "ir"
  },
  "language_info": {
   "codemirror_mode": "r",
   "file_extension": ".r",
   "mimetype": "text/x-r-source",
   "name": "R",
   "pygments_lexer": "r",
   "version": "4.4.2"
  }
 },
 "nbformat": 4,
 "nbformat_minor": 2
}

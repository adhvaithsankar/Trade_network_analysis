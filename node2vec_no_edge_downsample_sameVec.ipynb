{
 "cells": [
  {
   "cell_type": "code",
   "execution_count": 1,
   "metadata": {},
   "outputs": [],
   "source": [
    "import pandas as pd \n",
    "import networkx as nx\n",
    "from node2vec import Node2Vec\n",
    "import numpy as np\n",
    "import matplotlib.pyplot as plt\n",
    "from sklearn.linear_model import LogisticRegression\n",
    "from sklearn.model_selection import train_test_split\n",
    "from sklearn.metrics import classification_report, roc_auc_score\n",
    "import seaborn as sns\n",
    "from sklearn.metrics import confusion_matrix"
   ]
  },
  {
   "cell_type": "code",
   "execution_count": 2,
   "metadata": {},
   "outputs": [],
   "source": [
    "# Implementing link prediction using node2vec for the given dataset\n",
    "# Dataset contains the following columns for the year 2018: year, exporter_id, importer_id, section_no, value"
   ]
  },
  {
   "cell_type": "code",
   "execution_count": 3,
   "metadata": {},
   "outputs": [
    {
     "data": {
      "text/html": [
       "<div>\n",
       "<style scoped>\n",
       "    .dataframe tbody tr th:only-of-type {\n",
       "        vertical-align: middle;\n",
       "    }\n",
       "\n",
       "    .dataframe tbody tr th {\n",
       "        vertical-align: top;\n",
       "    }\n",
       "\n",
       "    .dataframe thead th {\n",
       "        text-align: right;\n",
       "    }\n",
       "</style>\n",
       "<table border=\"1\" class=\"dataframe\">\n",
       "  <thead>\n",
       "    <tr style=\"text-align: right;\">\n",
       "      <th></th>\n",
       "      <th>year</th>\n",
       "      <th>exporter_id</th>\n",
       "      <th>importer_id</th>\n",
       "      <th>section_no</th>\n",
       "      <th>value</th>\n",
       "    </tr>\n",
       "  </thead>\n",
       "  <tbody>\n",
       "    <tr>\n",
       "      <th>0</th>\n",
       "      <td>2018</td>\n",
       "      <td>ABW</td>\n",
       "      <td>ARE</td>\n",
       "      <td>3</td>\n",
       "      <td>6.997162e-10</td>\n",
       "    </tr>\n",
       "    <tr>\n",
       "      <th>1</th>\n",
       "      <td>2018</td>\n",
       "      <td>ABW</td>\n",
       "      <td>ARE</td>\n",
       "      <td>4</td>\n",
       "      <td>3.420166e-07</td>\n",
       "    </tr>\n",
       "    <tr>\n",
       "      <th>2</th>\n",
       "      <td>2018</td>\n",
       "      <td>ABW</td>\n",
       "      <td>ARE</td>\n",
       "      <td>6</td>\n",
       "      <td>1.313903e-07</td>\n",
       "    </tr>\n",
       "    <tr>\n",
       "      <th>3</th>\n",
       "      <td>2018</td>\n",
       "      <td>ABW</td>\n",
       "      <td>ARE</td>\n",
       "      <td>7</td>\n",
       "      <td>5.140412e-07</td>\n",
       "    </tr>\n",
       "    <tr>\n",
       "      <th>4</th>\n",
       "      <td>2018</td>\n",
       "      <td>ABW</td>\n",
       "      <td>ARE</td>\n",
       "      <td>10</td>\n",
       "      <td>1.368551e-08</td>\n",
       "    </tr>\n",
       "    <tr>\n",
       "      <th>5</th>\n",
       "      <td>2018</td>\n",
       "      <td>ABW</td>\n",
       "      <td>ARE</td>\n",
       "      <td>11</td>\n",
       "      <td>3.611943e-09</td>\n",
       "    </tr>\n",
       "    <tr>\n",
       "      <th>6</th>\n",
       "      <td>2018</td>\n",
       "      <td>ABW</td>\n",
       "      <td>ARE</td>\n",
       "      <td>13</td>\n",
       "      <td>3.049043e-10</td>\n",
       "    </tr>\n",
       "    <tr>\n",
       "      <th>7</th>\n",
       "      <td>2018</td>\n",
       "      <td>ABW</td>\n",
       "      <td>ARE</td>\n",
       "      <td>15</td>\n",
       "      <td>2.300894e-07</td>\n",
       "    </tr>\n",
       "    <tr>\n",
       "      <th>8</th>\n",
       "      <td>2018</td>\n",
       "      <td>ABW</td>\n",
       "      <td>ARE</td>\n",
       "      <td>16</td>\n",
       "      <td>4.286086e-06</td>\n",
       "    </tr>\n",
       "    <tr>\n",
       "      <th>9</th>\n",
       "      <td>2018</td>\n",
       "      <td>ABW</td>\n",
       "      <td>ARE</td>\n",
       "      <td>17</td>\n",
       "      <td>4.207444e-07</td>\n",
       "    </tr>\n",
       "  </tbody>\n",
       "</table>\n",
       "</div>"
      ],
      "text/plain": [
       "   year exporter_id importer_id  section_no         value\n",
       "0  2018         ABW         ARE           3  6.997162e-10\n",
       "1  2018         ABW         ARE           4  3.420166e-07\n",
       "2  2018         ABW         ARE           6  1.313903e-07\n",
       "3  2018         ABW         ARE           7  5.140412e-07\n",
       "4  2018         ABW         ARE          10  1.368551e-08\n",
       "5  2018         ABW         ARE          11  3.611943e-09\n",
       "6  2018         ABW         ARE          13  3.049043e-10\n",
       "7  2018         ABW         ARE          15  2.300894e-07\n",
       "8  2018         ABW         ARE          16  4.286086e-06\n",
       "9  2018         ABW         ARE          17  4.207444e-07"
      ]
     },
     "execution_count": 3,
     "metadata": {},
     "output_type": "execute_result"
    }
   ],
   "source": [
    "df = pd.read_csv('edge_data_2018_normalized.csv')\n",
    "df.head(10)"
   ]
  },
  {
   "cell_type": "code",
   "execution_count": 4,
   "metadata": {},
   "outputs": [
    {
     "data": {
      "text/plain": [
       "(287400, 5)"
      ]
     },
     "execution_count": 4,
     "metadata": {},
     "output_type": "execute_result"
    }
   ],
   "source": [
    "df.shape"
   ]
  },
  {
   "cell_type": "code",
   "execution_count": 5,
   "metadata": {},
   "outputs": [
    {
     "data": {
      "text/plain": [
       "year           0\n",
       "exporter_id    0\n",
       "importer_id    0\n",
       "section_no     0\n",
       "value          0\n",
       "dtype: int64"
      ]
     },
     "execution_count": 5,
     "metadata": {},
     "output_type": "execute_result"
    }
   ],
   "source": [
    "# Check if there are any missing values\n",
    "df.isnull().sum()"
   ]
  },
  {
   "cell_type": "code",
   "execution_count": 6,
   "metadata": {},
   "outputs": [
    {
     "data": {
      "text/plain": [
       "0"
      ]
     },
     "execution_count": 6,
     "metadata": {},
     "output_type": "execute_result"
    }
   ],
   "source": [
    "# check if there are any duplicate rows\n",
    "df.duplicated().sum()"
   ]
  },
  {
   "cell_type": "code",
   "execution_count": 7,
   "metadata": {},
   "outputs": [
    {
     "data": {
      "text/plain": [
       "0"
      ]
     },
     "execution_count": 7,
     "metadata": {},
     "output_type": "execute_result"
    }
   ],
   "source": [
    "# check if there are any duplicate rows only based on exporter_id, importer_id and section_no\n",
    "df.duplicated(subset=['exporter_id', 'importer_id', 'section_no']).sum()"
   ]
  },
  {
   "cell_type": "code",
   "execution_count": 8,
   "metadata": {},
   "outputs": [
    {
     "name": "stdout",
     "output_type": "stream",
     "text": [
      "Number of nodes:  208\n",
      "Number of edges:  287400\n"
     ]
    }
   ],
   "source": [
    "# Creating a directed multigraph\n",
    "G = nx.MultiDiGraph()\n",
    "\n",
    "# There will be more than one edge between two nodes if there are multiple trades between them since for each section_no, there is an edge between the exporter and importer\n",
    "for i in range(len(df)):\n",
    "    G.add_edge(df['exporter_id'][i], df['importer_id'][i], section_no = df['section_no'][i], value = df['value'][i])\n",
    "\n",
    "# print the number of nodes and edges in the graph\n",
    "print(\"Number of nodes: \", G.number_of_nodes())\n",
    "print(\"Number of edges: \", G.number_of_edges())\n"
   ]
  },
  {
   "cell_type": "code",
   "execution_count": 9,
   "metadata": {},
   "outputs": [
    {
     "name": "stdout",
     "output_type": "stream",
     "text": [
      "Edge from ABW to ARE with attributes: {'section_no': 3, 'value': 6.99716221636167e-10}\n",
      "Edge from ABW to ARE with attributes: {'section_no': 4, 'value': 3.4201659830075306e-07}\n",
      "Edge from ABW to ARE with attributes: {'section_no': 6, 'value': 1.3139028850075333e-07}\n",
      "Edge from ABW to ARE with attributes: {'section_no': 7, 'value': 5.14041245035629e-07}\n",
      "Edge from ABW to ARE with attributes: {'section_no': 10, 'value': 1.3685511128202353e-08}\n",
      "Average in-degree: 1381.7307692307693\n",
      "Average out-degree: 1381.7307692307693\n"
     ]
    }
   ],
   "source": [
    "# List some edges with attributes\n",
    "for u, v, data in list(G.edges(data=True))[:5]:\n",
    "    print(f\"Edge from {u} to {v} with attributes: {data}\")\n",
    "\n",
    "# Degree analysis\n",
    "print(\"Average in-degree:\", sum(dict(G.in_degree()).values()) / G.number_of_nodes())\n",
    "print(\"Average out-degree:\", sum(dict(G.out_degree()).values()) / G.number_of_nodes())\n"
   ]
  },
  {
   "cell_type": "code",
   "execution_count": 10,
   "metadata": {},
   "outputs": [
    {
     "name": "stdout",
     "output_type": "stream",
     "text": [
      "Total in-degree: 287400\n",
      "Total out-degree: 287400\n",
      "Number of edges in the graph: 287400\n"
     ]
    }
   ],
   "source": [
    "# Total in-degree and out-degree\n",
    "total_in_degree = sum(dict(G.in_degree()).values())\n",
    "total_out_degree = sum(dict(G.out_degree()).values())\n",
    "\n",
    "print(\"Total in-degree:\", total_in_degree)\n",
    "print(\"Total out-degree:\", total_out_degree)\n",
    "print(\"Number of edges in the graph:\", G.number_of_edges())\n"
   ]
  },
  {
   "cell_type": "code",
   "execution_count": 11,
   "metadata": {},
   "outputs": [
    {
     "name": "stdout",
     "output_type": "stream",
     "text": [
      "Number of nodes in aggregated graph: 208\n",
      "Number of edges in aggregated graph: 27428\n"
     ]
    }
   ],
   "source": [
    "# Aggregate edges by summing the total value of trade\n",
    "aggregated_graph = nx.DiGraph()\n",
    "\n",
    "for u, v, data in G.edges(data=True):\n",
    "    # Assuming 'trade_value' is a key in your data\n",
    "    value = data.get('value', 0)  # Default to 0 if key is missing\n",
    "    if aggregated_graph.has_edge(u, v):\n",
    "        aggregated_graph[u][v]['weight'] += value  # Add trade value to existing weight\n",
    "    else:\n",
    "        aggregated_graph.add_edge(u, v, weight=value)  # Initialize with trade value\n",
    "\n",
    "print(\"Number of nodes in aggregated graph:\", aggregated_graph.number_of_nodes())\n",
    "print(\"Number of edges in aggregated graph:\", aggregated_graph.number_of_edges())\n"
   ]
  },
  {
   "cell_type": "code",
   "execution_count": 12,
   "metadata": {},
   "outputs": [
    {
     "name": "stdout",
     "output_type": "stream",
     "text": [
      "Edge from ABW to ARE with total trade value (weight): 5.952552350954782e-06\n",
      "Edge from ABW to ARG with total trade value (weight): 8.678044759956931e-10\n",
      "Edge from ABW to AUT with total trade value (weight): 3.5794980120236774e-08\n",
      "Edge from ABW to BEL with total trade value (weight): 1.2000328652518822e-07\n",
      "Edge from ABW to BFA with total trade value (weight): 3.1663136286329337e-10\n",
      "Edge from ABW to BHR with total trade value (weight): 7.548491690660916e-07\n",
      "Edge from ABW to BIH with total trade value (weight): 1.9545145855758855e-11\n",
      "Edge from ABW to BRA with total trade value (weight): 2.240616430612484e-07\n",
      "Edge from ABW to BRN with total trade value (weight): 1.5776841734768552e-08\n",
      "Edge from ABW to CAN with total trade value (weight): 5.229303773708281e-07\n"
     ]
    }
   ],
   "source": [
    "# Sample some edges with their weights\n",
    "for u, v, data in list(aggregated_graph.edges(data=True))[:10]:\n",
    "    print(f\"Edge from {u} to {v} with total trade value (weight): {data['weight']}\")\n"
   ]
  },
  {
   "cell_type": "code",
   "execution_count": 13,
   "metadata": {},
   "outputs": [],
   "source": [
    "# # Visualize the Graph\n",
    "# plt.figure(figsize=(10, 8))\n",
    "# pos = nx.spring_layout(aggregated_graph, seed=42)  # Layout for positioning\n",
    "# edge_weights = [aggregated_graph[u][v]['weight'] for u, v in aggregated_graph.edges()]\n",
    "# nx.draw(\n",
    "#     aggregated_graph,\n",
    "#     pos,\n",
    "#     node_size=50,\n",
    "#     edge_color=edge_weights,\n",
    "#     edge_cmap=plt.cm.viridis,\n",
    "#     with_labels=False,\n",
    "# )\n",
    "# plt.show()\n"
   ]
  },
  {
   "cell_type": "code",
   "execution_count": 14,
   "metadata": {},
   "outputs": [],
   "source": [
    "# Remove self-loops\n",
    "aggregated_graph.remove_edges_from(nx.selfloop_edges(aggregated_graph))\n"
   ]
  },
  {
   "cell_type": "code",
   "execution_count": 15,
   "metadata": {},
   "outputs": [
    {
     "name": "stdout",
     "output_type": "stream",
     "text": [
      "Number of nodes in aggregated graph: 208\n",
      "Number of edges in aggregated graph: 27400\n"
     ]
    }
   ],
   "source": [
    "\n",
    "print(\"Number of nodes in aggregated graph:\", aggregated_graph.number_of_nodes())\n",
    "print(\"Number of edges in aggregated graph:\", aggregated_graph.number_of_edges())"
   ]
  },
  {
   "cell_type": "code",
   "execution_count": 16,
   "metadata": {},
   "outputs": [
    {
     "data": {
      "application/vnd.jupyter.widget-view+json": {
       "model_id": "0196609d3aaf44d98e9f276a767a7801",
       "version_major": 2,
       "version_minor": 0
      },
      "text/plain": [
       "Computing transition probabilities:   0%|          | 0/208 [00:00<?, ?it/s]"
      ]
     },
     "metadata": {},
     "output_type": "display_data"
    },
    {
     "name": "stdout",
     "output_type": "stream",
     "text": [
      "[-0.0335177   0.03233418  0.4121452   0.33527437  0.13313581 -0.15007204\n",
      " -0.28742746  0.12141868 -0.30227658  0.16068073  0.30847803 -0.10608505\n",
      " -0.09396819  0.08107993  0.10096279  0.3250869   0.21692745  0.17822635\n",
      "  0.06179219 -0.04039229  0.17382766 -0.00144621  0.4025862  -0.4350322\n",
      "  0.25648534 -0.08568493 -0.41612735  0.16639373  0.0122681  -0.04076694\n",
      "  0.64393526  0.28925607 -0.01838308  0.03026226  0.05356964 -0.7297\n",
      " -0.15017883  0.01636375  0.18431988  0.34580895 -0.25703847 -0.07614113\n",
      " -0.31316078  0.2537719   0.14055902 -0.20732905 -0.36292553 -0.02217868\n",
      "  0.16676752 -0.17693566  0.00827406 -0.4704488   0.40480438  0.5461833\n",
      "  0.26221597  0.22931467  0.02777265 -0.31194615 -0.27283132  0.5490686\n",
      "  0.33553365 -0.08344784  0.23684752  0.08548813]\n"
     ]
    }
   ],
   "source": [
    "# Perform node2vec embedding\n",
    "\n",
    "# 1. Generate Node2Vec embeddings\n",
    "node2vec = Node2Vec(aggregated_graph, dimensions=64, walk_length=30, num_walks=200, workers=4)\n",
    "model = node2vec.fit(window=10, min_count=1, batch_words=4)\n",
    "\n",
    "# Access embeddings for a specific node\n",
    "print(model.wv['ABW'])\n"
   ]
  },
  {
   "cell_type": "code",
   "execution_count": 17,
   "metadata": {},
   "outputs": [],
   "source": [
    "# def get_edge_embedding(node1, node2, method=\"hadamard\"):\n",
    "#     emb1 = model.wv[node1]\n",
    "#     emb2 = model.wv[node2]\n",
    "#     if method == \"hadamard\":\n",
    "#         return emb1 * emb2  # Hadamard product\n",
    "#     elif method == \"average\":\n",
    "#         return (emb1 + emb2) / 2  # Average\n",
    "#     elif method == \"concat\":\n",
    "#         return np.concatenate([emb1, emb2])  # Concatenation\n",
    "#     else:\n",
    "#         raise ValueError(\"Invalid method. Choose from 'hadamard', 'average', or 'concat'.\")\n"
   ]
  },
  {
   "cell_type": "code",
   "execution_count": 18,
   "metadata": {},
   "outputs": [],
   "source": [
    "def get_edge_embedding(node1, node2, graph, model, method=\"concat\"):\n",
    "    emb1 = model.wv[node1]\n",
    "    emb2 = model.wv[node2]\n",
    "    # check if there is an edge between the two nodes\n",
    "\n",
    "    \n",
    "    if method == \"hadamard\":\n",
    "        return (emb1 * emb2)   # Scale Hadamard product by edge weight\n",
    "    elif method == \"average\":\n",
    "        return ((emb1 + emb2) / 2)  # Scale average by edge weight\n",
    "    elif method == \"concat\":\n",
    "        return np.concatenate([emb1, emb2])  # Include edge weight in concatenation\n",
    "    else:\n",
    "        raise ValueError(\"Invalid method. Choose from 'hadamard', 'average', or 'concat'.\")\n"
   ]
  },
  {
   "cell_type": "code",
   "execution_count": 19,
   "metadata": {},
   "outputs": [
    {
     "data": {
      "text/plain": [
       "[('ABW', 'AFG'),\n",
       " ('ABW', 'AGO'),\n",
       " ('ABW', 'ALB'),\n",
       " ('ABW', 'AND'),\n",
       " ('ABW', 'ARM'),\n",
       " ('ABW', 'ATG'),\n",
       " ('ABW', 'AUS'),\n",
       " ('ABW', 'AZE'),\n",
       " ('ABW', 'BDI'),\n",
       " ('ABW', 'BEN'),\n",
       " ('ABW', 'BGD'),\n",
       " ('ABW', 'BGR'),\n",
       " ('ABW', 'BHS'),\n",
       " ('ABW', 'BLR'),\n",
       " ('ABW', 'BLZ'),\n",
       " ('ABW', 'BMU'),\n",
       " ('ABW', 'BOL'),\n",
       " ('ABW', 'BRB'),\n",
       " ('ABW', 'BTN'),\n",
       " ('ABW', 'BWA'),\n",
       " ('ABW', 'CAF'),\n",
       " ('ABW', 'CMR'),\n",
       " ('ABW', 'COD'),\n",
       " ('ABW', 'COG'),\n",
       " ('ABW', 'COM'),\n",
       " ('ABW', 'CPV'),\n",
       " ('ABW', 'CUB'),\n",
       " ('ABW', 'CUW'),\n",
       " ('ABW', 'CYM'),\n",
       " ('ABW', 'CYP'),\n",
       " ('ABW', 'DJI'),\n",
       " ('ABW', 'DMA'),\n",
       " ('ABW', 'DZA'),\n",
       " ('ABW', 'EGY'),\n",
       " ('ABW', 'ERI'),\n",
       " ('ABW', 'EST'),\n",
       " ('ABW', 'ETH'),\n",
       " ('ABW', 'FJI'),\n",
       " ('ABW', 'FSM'),\n",
       " ('ABW', 'GAB'),\n",
       " ('ABW', 'GEO'),\n",
       " ('ABW', 'GIB'),\n",
       " ('ABW', 'GIN'),\n",
       " ('ABW', 'GMB'),\n",
       " ('ABW', 'GNB'),\n",
       " ('ABW', 'GNQ'),\n",
       " ('ABW', 'GRD'),\n",
       " ('ABW', 'GRL'),\n",
       " ('ABW', 'GUM'),\n",
       " ('ABW', 'GUY'),\n",
       " ('ABW', 'HRV'),\n",
       " ('ABW', 'HTI'),\n",
       " ('ABW', 'IRL'),\n",
       " ('ABW', 'IRN'),\n",
       " ('ABW', 'IRQ'),\n",
       " ('ABW', 'ISL'),\n",
       " ('ABW', 'JPN'),\n",
       " ('ABW', 'KAZ'),\n",
       " ('ABW', 'KEN'),\n",
       " ('ABW', 'KGZ'),\n",
       " ('ABW', 'KIR'),\n",
       " ('ABW', 'KNA'),\n",
       " ('ABW', 'LAO'),\n",
       " ('ABW', 'LBR'),\n",
       " ('ABW', 'LBY'),\n",
       " ('ABW', 'LCA'),\n",
       " ('ABW', 'LKA'),\n",
       " ('ABW', 'LSO'),\n",
       " ('ABW', 'LTU'),\n",
       " ('ABW', 'LVA'),\n",
       " ('ABW', 'MAC'),\n",
       " ('ABW', 'MAR'),\n",
       " ('ABW', 'MDA'),\n",
       " ('ABW', 'MDV'),\n",
       " ('ABW', 'MEX'),\n",
       " ('ABW', 'MHL'),\n",
       " ('ABW', 'MKD'),\n",
       " ('ABW', 'MLI'),\n",
       " ('ABW', 'MLT'),\n",
       " ('ABW', 'MNG'),\n",
       " ('ABW', 'MNP'),\n",
       " ('ABW', 'MRT'),\n",
       " ('ABW', 'MWI'),\n",
       " ('ABW', 'NAM'),\n",
       " ('ABW', 'NCL'),\n",
       " ('ABW', 'NER'),\n",
       " ('ABW', 'NGA'),\n",
       " ('ABW', 'NPL'),\n",
       " ('ABW', 'OMN'),\n",
       " ('ABW', 'PHL'),\n",
       " ('ABW', 'PLW'),\n",
       " ('ABW', 'PNG'),\n",
       " ('ABW', 'PRK'),\n",
       " ('ABW', 'PRY'),\n",
       " ('ABW', 'PSE'),\n",
       " ('ABW', 'PYF'),\n",
       " ('ABW', 'QAT'),\n",
       " ('ABW', 'SAU'),\n",
       " ('ABW', 'SEN'),\n",
       " ('ABW', 'SLB'),\n",
       " ('ABW', 'SLE'),\n",
       " ('ABW', 'SMR'),\n",
       " ('ABW', 'SOM'),\n",
       " ('ABW', 'SRB'),\n",
       " ('ABW', 'SSD'),\n",
       " ('ABW', 'STP'),\n",
       " ('ABW', 'SUR'),\n",
       " ('ABW', 'SWZ'),\n",
       " ('ABW', 'SYR'),\n",
       " ('ABW', 'TCA'),\n",
       " ('ABW', 'TCD'),\n",
       " ('ABW', 'TGO'),\n",
       " ('ABW', 'TJK'),\n",
       " ('ABW', 'TKM'),\n",
       " ('ABW', 'TLS'),\n",
       " ('ABW', 'TON'),\n",
       " ('ABW', 'TTO'),\n",
       " ('ABW', 'TUN'),\n",
       " ('ABW', 'TUV'),\n",
       " ('ABW', 'TZA'),\n",
       " ('ABW', 'UGA'),\n",
       " ('ABW', 'UKR'),\n",
       " ('ABW', 'URY'),\n",
       " ('ABW', 'UZB'),\n",
       " ('ABW', 'VCT'),\n",
       " ('ABW', 'VEN'),\n",
       " ('ABW', 'VGB'),\n",
       " ('ABW', 'VNM'),\n",
       " ('ABW', 'VUT'),\n",
       " ('ABW', 'WSM'),\n",
       " ('ABW', 'ZWE'),\n",
       " ('ABW', 'ISR'),\n",
       " ('ABW', 'ASM'),\n",
       " ('ABW', 'MAF'),\n",
       " ('ABW', 'NRU'),\n",
       " ('ARE', 'ISR'),\n",
       " ('ARE', 'ASM'),\n",
       " ('ARE', 'MAF'),\n",
       " ('ARE', 'NRU'),\n",
       " ('ARG', 'BDI'),\n",
       " ('ARG', 'BTN'),\n",
       " ('ARG', 'CAF'),\n",
       " ('ARG', 'CYM'),\n",
       " ('ARG', 'DMA'),\n",
       " ('ARG', 'ERI'),\n",
       " ('ARG', 'FSM'),\n",
       " ('ARG', 'GIB'),\n",
       " ('ARG', 'GNB'),\n",
       " ('ARG', 'GUM'),\n",
       " ('ARG', 'KIR'),\n",
       " ('ARG', 'KNA'),\n",
       " ('ARG', 'MHL'),\n",
       " ('ARG', 'MNP'),\n",
       " ('ARG', 'MWI'),\n",
       " ('ARG', 'NCL'),\n",
       " ('ARG', 'PLW'),\n",
       " ('ARG', 'PNG'),\n",
       " ('ARG', 'PRK'),\n",
       " ('ARG', 'PYF'),\n",
       " ('ARG', 'SLB'),\n",
       " ('ARG', 'SMR'),\n",
       " ('ARG', 'SOM'),\n",
       " ('ARG', 'SSD'),\n",
       " ('ARG', 'STP'),\n",
       " ('ARG', 'TCA'),\n",
       " ('ARG', 'TCD'),\n",
       " ('ARG', 'TJK'),\n",
       " ('ARG', 'TKM'),\n",
       " ('ARG', 'TLS'),\n",
       " ('ARG', 'TON'),\n",
       " ('ARG', 'TUV'),\n",
       " ('ARG', 'VCT'),\n",
       " ('ARG', 'VGB'),\n",
       " ('ARG', 'VUT'),\n",
       " ('ARG', 'WSM'),\n",
       " ('ARG', 'ASM'),\n",
       " ('ARG', 'MAF'),\n",
       " ('ARG', 'NRU'),\n",
       " ('AUT', 'FSM'),\n",
       " ('AUT', 'MNP'),\n",
       " ('AUT', 'TON'),\n",
       " ('BEL', 'FSM'),\n",
       " ('BEL', 'MNP'),\n",
       " ('BEL', 'TUV'),\n",
       " ('BFA', 'ABW'),\n",
       " ('BFA', 'BRN'),\n",
       " ('BFA', 'JAM'),\n",
       " ('BFA', 'KHM'),\n",
       " ('BFA', 'NIC'),\n",
       " ('BFA', 'PAN'),\n",
       " ('BFA', 'YEM'),\n",
       " ('BFA', 'AFG'),\n",
       " ('BFA', 'ALB'),\n",
       " ('BFA', 'AND'),\n",
       " ('BFA', 'ATG'),\n",
       " ('BFA', 'BDI'),\n",
       " ('BFA', 'BGD'),\n",
       " ('BFA', 'BHS'),\n",
       " ('BFA', 'BLR'),\n",
       " ('BFA', 'BLZ'),\n",
       " ('BFA', 'BRB'),\n",
       " ('BFA', 'BTN'),\n",
       " ('BFA', 'BWA'),\n",
       " ('BFA', 'COM'),\n",
       " ('BFA', 'CUB'),\n",
       " ('BFA', 'CUW'),\n",
       " ('BFA', 'CYP'),\n",
       " ('BFA', 'DJI'),\n",
       " ('BFA', 'DMA'),\n",
       " ('BFA', 'ERI'),\n",
       " ('BFA', 'FJI'),\n",
       " ('BFA', 'FSM'),\n",
       " ('BFA', 'GEO'),\n",
       " ('BFA', 'GIB'),\n",
       " ('BFA', 'GRD'),\n",
       " ('BFA', 'GUM'),\n",
       " ('BFA', 'GUY'),\n",
       " ('BFA', 'IRN'),\n",
       " ('BFA', 'IRQ'),\n",
       " ('BFA', 'KAZ'),\n",
       " ('BFA', 'KGZ'),\n",
       " ('BFA', 'KIR'),\n",
       " ('BFA', 'KNA'),\n",
       " ('BFA', 'LCA'),\n",
       " ('BFA', 'LKA'),\n",
       " ('BFA', 'MAC'),\n",
       " ('BFA', 'MDA'),\n",
       " ('BFA', 'MDV'),\n",
       " ('BFA', 'MHL'),\n",
       " ('BFA', 'MNP'),\n",
       " ('BFA', 'MWI'),\n",
       " ('BFA', 'NAM'),\n",
       " ('BFA', 'NCL'),\n",
       " ('BFA', 'NPL'),\n",
       " ('BFA', 'OMN'),\n",
       " ('BFA', 'PLW'),\n",
       " ('BFA', 'PNG'),\n",
       " ('BFA', 'PRK'),\n",
       " ('BFA', 'PSE'),\n",
       " ('BFA', 'PYF'),\n",
       " ('BFA', 'SLB'),\n",
       " ('BFA', 'SOM'),\n",
       " ('BFA', 'SSD'),\n",
       " ('BFA', 'STP'),\n",
       " ('BFA', 'SUR'),\n",
       " ('BFA', 'SWZ'),\n",
       " ('BFA', 'SYR'),\n",
       " ('BFA', 'TCA'),\n",
       " ('BFA', 'TJK'),\n",
       " ('BFA', 'TKM'),\n",
       " ('BFA', 'TLS'),\n",
       " ('BFA', 'TON'),\n",
       " ('BFA', 'TTO'),\n",
       " ('BFA', 'TUV'),\n",
       " ('BFA', 'UZB'),\n",
       " ('BFA', 'VCT'),\n",
       " ('BFA', 'VEN'),\n",
       " ('BFA', 'VGB'),\n",
       " ('BFA', 'VUT'),\n",
       " ('BFA', 'WSM'),\n",
       " ('BFA', 'ASM'),\n",
       " ('BFA', 'MAF'),\n",
       " ('BFA', 'NRU'),\n",
       " ('BHR', 'ABW'),\n",
       " ('BHR', 'BFA'),\n",
       " ('BHR', 'BDI'),\n",
       " ('BHR', 'BEN'),\n",
       " ('BHR', 'BLZ'),\n",
       " ('BHR', 'BRB'),\n",
       " ('BHR', 'BTN'),\n",
       " ('BHR', 'COD'),\n",
       " ('BHR', 'COM'),\n",
       " ('BHR', 'CPV'),\n",
       " ('BHR', 'CUB'),\n",
       " ('BHR', 'CUW'),\n",
       " ('BHR', 'CYM'),\n",
       " ('BHR', 'DMA'),\n",
       " ('BHR', 'FSM'),\n",
       " ('BHR', 'GIB'),\n",
       " ('BHR', 'GMB'),\n",
       " ('BHR', 'GNB'),\n",
       " ('BHR', 'GRD'),\n",
       " ('BHR', 'GRL'),\n",
       " ('BHR', 'GUM'),\n",
       " ('BHR', 'HTI'),\n",
       " ('BHR', 'KIR'),\n",
       " ('BHR', 'KNA'),\n",
       " ('BHR', 'LCA'),\n",
       " ('BHR', 'MAC'),\n",
       " ('BHR', 'MDA'),\n",
       " ('BHR', 'MLI'),\n",
       " ('BHR', 'MNP'),\n",
       " ('BHR', 'MWI'),\n",
       " ('BHR', 'NCL'),\n",
       " ('BHR', 'NER'),\n",
       " ('BHR', 'PLW'),\n",
       " ('BHR', 'PNG'),\n",
       " ('BHR', 'PRK'),\n",
       " ('BHR', 'PYF'),\n",
       " ('BHR', 'SLB'),\n",
       " ('BHR', 'SMR'),\n",
       " ('BHR', 'STP'),\n",
       " ('BHR', 'SUR'),\n",
       " ('BHR', 'TCA'),\n",
       " ('BHR', 'TGO'),\n",
       " ('BHR', 'TJK'),\n",
       " ('BHR', 'TKM'),\n",
       " ('BHR', 'TLS'),\n",
       " ('BHR', 'TON'),\n",
       " ('BHR', 'UZB'),\n",
       " ('BHR', 'VCT'),\n",
       " ('BHR', 'VGB'),\n",
       " ('BHR', 'WSM'),\n",
       " ('BHR', 'ISR'),\n",
       " ('BHR', 'ASM'),\n",
       " ('BHR', 'MAF'),\n",
       " ('BHR', 'NRU'),\n",
       " ('BIH', 'ABW'),\n",
       " ('BIH', 'JAM'),\n",
       " ('BIH', 'PAN'),\n",
       " ('BIH', 'ATG'),\n",
       " ('BIH', 'BDI'),\n",
       " ('BIH', 'BHS'),\n",
       " ('BIH', 'BLZ'),\n",
       " ('BIH', 'BTN'),\n",
       " ('BIH', 'CAF'),\n",
       " ('BIH', 'COD'),\n",
       " ('BIH', 'COM'),\n",
       " ('BIH', 'CPV'),\n",
       " ('BIH', 'CUW'),\n",
       " ('BIH', 'CYM'),\n",
       " ('BIH', 'DJI'),\n",
       " ('BIH', 'DMA'),\n",
       " ('BIH', 'ERI'),\n",
       " ('BIH', 'FJI'),\n",
       " ('BIH', 'FSM'),\n",
       " ('BIH', 'GAB'),\n",
       " ('BIH', 'GIB'),\n",
       " ('BIH', 'GMB'),\n",
       " ('BIH', 'GNB'),\n",
       " ('BIH', 'GRD'),\n",
       " ('BIH', 'GUM'),\n",
       " ('BIH', 'GUY'),\n",
       " ('BIH', 'KIR'),\n",
       " ('BIH', 'LAO'),\n",
       " ('BIH', 'LBR'),\n",
       " ('BIH', 'LCA'),\n",
       " ('BIH', 'LSO'),\n",
       " ('BIH', 'MDV'),\n",
       " ('BIH', 'MHL'),\n",
       " ('BIH', 'MNP'),\n",
       " ('BIH', 'MWI'),\n",
       " ('BIH', 'NCL'),\n",
       " ('BIH', 'PNG'),\n",
       " ('BIH', 'PRK'),\n",
       " ('BIH', 'SLB'),\n",
       " ('BIH', 'SSD'),\n",
       " ('BIH', 'STP'),\n",
       " ('BIH', 'TCA'),\n",
       " ('BIH', 'TCD'),\n",
       " ('BIH', 'TLS'),\n",
       " ('BIH', 'TON'),\n",
       " ('BIH', 'TTO'),\n",
       " ('BIH', 'TUV'),\n",
       " ('BIH', 'VCT'),\n",
       " ('BIH', 'VUT'),\n",
       " ('BIH', 'WSM'),\n",
       " ('BIH', 'MAF'),\n",
       " ('BIH', 'NRU'),\n",
       " ('BRA', 'BTN'),\n",
       " ('BRA', 'TLS'),\n",
       " ('BRN', 'ABW'),\n",
       " ('BRN', 'BFA'),\n",
       " ('BRN', 'CRI'),\n",
       " ('BRN', 'GTM'),\n",
       " ('BRN', 'HND'),\n",
       " ('BRN', 'JAM'),\n",
       " ('BRN', 'MDG'),\n",
       " ('BRN', 'MNE'),\n",
       " ('BRN', 'NIC'),\n",
       " ('BRN', 'PAN'),\n",
       " ('BRN', 'SDN'),\n",
       " ('BRN', 'SLV'),\n",
       " ('BRN', 'YEM'),\n",
       " ('BRN', 'AFG'),\n",
       " ('BRN', 'AGO'),\n",
       " ('BRN', 'ATG'),\n",
       " ('BRN', 'AZE'),\n",
       " ('BRN', 'BDI'),\n",
       " ('BRN', 'BEN'),\n",
       " ('BRN', 'BHS'),\n",
       " ('BRN', 'BLR'),\n",
       " ('BRN', 'BLZ'),\n",
       " ('BRN', 'BRB'),\n",
       " ('BRN', 'BTN'),\n",
       " ('BRN', 'CAF'),\n",
       " ('BRN', 'CMR'),\n",
       " ('BRN', 'COD'),\n",
       " ('BRN', 'CPV'),\n",
       " ('BRN', 'CUB'),\n",
       " ('BRN', 'CYM'),\n",
       " ('BRN', 'DJI'),\n",
       " ('BRN', 'DMA'),\n",
       " ('BRN', 'ERI'),\n",
       " ('BRN', 'ETH'),\n",
       " ('BRN', 'FSM'),\n",
       " ('BRN', 'GAB'),\n",
       " ('BRN', 'GEO'),\n",
       " ('BRN', 'GIB'),\n",
       " ('BRN', 'GIN'),\n",
       " ('BRN', 'GMB'),\n",
       " ('BRN', 'GNB'),\n",
       " ('BRN', 'GNQ'),\n",
       " ('BRN', 'GRD'),\n",
       " ('BRN', 'GRL'),\n",
       " ('BRN', 'GUM'),\n",
       " ('BRN', 'GUY'),\n",
       " ('BRN', 'HTI'),\n",
       " ('BRN', 'IRQ'),\n",
       " ('BRN', 'KAZ'),\n",
       " ('BRN', 'KIR'),\n",
       " ('BRN', 'KNA'),\n",
       " ('BRN', 'LBR'),\n",
       " ('BRN', 'LCA'),\n",
       " ('BRN', 'LSO'),\n",
       " ('BRN', 'LVA'),\n",
       " ('BRN', 'MDA'),\n",
       " ('BRN', 'MHL'),\n",
       " ('BRN', 'MNP'),\n",
       " ('BRN', 'MRT'),\n",
       " ('BRN', 'MWI'),\n",
       " ('BRN', 'NCL'),\n",
       " ('BRN', 'NPL'),\n",
       " ('BRN', 'PRY'),\n",
       " ('BRN', 'PSE'),\n",
       " ('BRN', 'PYF'),\n",
       " ('BRN', 'SEN'),\n",
       " ('BRN', 'SLB'),\n",
       " ('BRN', 'SLE'),\n",
       " ('BRN', 'SMR'),\n",
       " ('BRN', 'SOM'),\n",
       " ('BRN', 'SSD'),\n",
       " ('BRN', 'STP'),\n",
       " ('BRN', 'SUR'),\n",
       " ('BRN', 'SWZ'),\n",
       " ('BRN', 'TCA'),\n",
       " ('BRN', 'TCD'),\n",
       " ('BRN', 'TGO'),\n",
       " ('BRN', 'TJK'),\n",
       " ('BRN', 'TKM'),\n",
       " ('BRN', 'TLS'),\n",
       " ('BRN', 'TON'),\n",
       " ('BRN', 'TTO'),\n",
       " ('BRN', 'TUV'),\n",
       " ('BRN', 'UGA'),\n",
       " ('BRN', 'UKR'),\n",
       " ('BRN', 'URY'),\n",
       " ('BRN', 'UZB'),\n",
       " ('BRN', 'VCT'),\n",
       " ('BRN', 'VEN'),\n",
       " ('BRN', 'VGB'),\n",
       " ('BRN', 'VUT'),\n",
       " ('BRN', 'WSM'),\n",
       " ('BRN', 'ZWE'),\n",
       " ('BRN', 'ASM'),\n",
       " ('BRN', 'MAF'),\n",
       " ('BRN', 'NRU'),\n",
       " ('CAN', 'FSM'),\n",
       " ('CAN', 'MHL'),\n",
       " ('CAN', 'MNP'),\n",
       " ('CAN', 'PSE'),\n",
       " ('CAN', 'SMR'),\n",
       " ('CAN', 'TUV'),\n",
       " ('CAN', 'NRU'),\n",
       " ('CHL', 'YEM'),\n",
       " ('CHL', 'AFG'),\n",
       " ('CHL', 'BDI'),\n",
       " ('CHL', 'BTN'),\n",
       " ('CHL', 'CAF'),\n",
       " ('CHL', 'ERI'),\n",
       " ('CHL', 'GIB'),\n",
       " ('CHL', 'GMB'),\n",
       " ('CHL', 'MHL'),\n",
       " ('CHL', 'MWI'),\n",
       " ('CHL', 'PLW'),\n",
       " ('CHL', 'PRK'),\n",
       " ('CHL', 'PSE'),\n",
       " ('CHL', 'SLB'),\n",
       " ('CHL', 'SSD'),\n",
       " ('CHL', 'STP'),\n",
       " ('CHL', 'TCD'),\n",
       " ('CHL', 'TJK'),\n",
       " ('CHL', 'TKM'),\n",
       " ('CHL', 'TLS'),\n",
       " ('CHL', 'TUV'),\n",
       " ('CHL', 'VUT'),\n",
       " ('CHL', 'ASM'),\n",
       " ('CHL', 'MAF'),\n",
       " ('CHL', 'NRU'),\n",
       " ('CHN', 'GUM'),\n",
       " ('CHN', 'MNP'),\n",
       " ('CHN', 'ASM'),\n",
       " ('CHN', 'MAF'),\n",
       " ('CIV', 'ABW'),\n",
       " ('CIV', 'YEM'),\n",
       " ('CIV', 'AFG'),\n",
       " ('CIV', 'BMU'),\n",
       " ('CIV', 'BTN'),\n",
       " ('CIV', 'CYM'),\n",
       " ('CIV', 'DMA'),\n",
       " ('CIV', 'ERI'),\n",
       " ('CIV', 'FJI'),\n",
       " ('CIV', 'FSM'),\n",
       " ('CIV', 'GRD'),\n",
       " ('CIV', 'GUM'),\n",
       " ('CIV', 'KGZ'),\n",
       " ('CIV', 'KNA'),\n",
       " ('CIV', 'LAO'),\n",
       " ('CIV', 'LCA'),\n",
       " ('CIV', 'MDA'),\n",
       " ('CIV', 'MNP'),\n",
       " ('CIV', 'NPL'),\n",
       " ('CIV', 'PNG'),\n",
       " ('CIV', 'PRK'),\n",
       " ('CIV', 'PSE'),\n",
       " ('CIV', 'PYF'),\n",
       " ('CIV', 'SLB'),\n",
       " ('CIV', 'SSD'),\n",
       " ('CIV', 'SUR'),\n",
       " ('CIV', 'TJK'),\n",
       " ('CIV', 'TKM'),\n",
       " ('CIV', 'TLS'),\n",
       " ('CIV', 'TON'),\n",
       " ('CIV', 'TUV'),\n",
       " ('CIV', 'VEN'),\n",
       " ('CIV', 'VGB'),\n",
       " ('CIV', 'WSM'),\n",
       " ('CIV', 'ASM'),\n",
       " ('CIV', 'MAF'),\n",
       " ('CIV', 'NRU'),\n",
       " ('COL', 'BDI'),\n",
       " ('COL', 'BTN'),\n",
       " ('COL', 'CAF'),\n",
       " ('COL', 'ERI'),\n",
       " ('COL', 'GMB'),\n",
       " ('COL', 'KIR'),\n",
       " ('COL', 'LSO'),\n",
       " ('COL', 'MHL'),\n",
       " ('COL', 'MNP'),\n",
       " ('COL', 'MRT'),\n",
       " ('COL', 'MWI'),\n",
       " ('COL', 'NPL'),\n",
       " ('COL', 'PLW'),\n",
       " ('COL', 'SMR'),\n",
       " ('COL', 'SSD'),\n",
       " ('COL', 'STP'),\n",
       " ('COL', 'TLS'),\n",
       " ('COL', 'TUV'),\n",
       " ('COL', 'VUT'),\n",
       " ('COL', 'ASM'),\n",
       " ('COL', 'MAF'),\n",
       " ('COL', 'NRU'),\n",
       " ('CRI', 'YEM'),\n",
       " ('CRI', 'AFG'),\n",
       " ('CRI', 'BDI'),\n",
       " ('CRI', 'BEN'),\n",
       " ('CRI', 'BTN'),\n",
       " ('CRI', 'CAF'),\n",
       " ('CRI', 'COM'),\n",
       " ('CRI', 'CPV'),\n",
       " ('CRI', 'DJI'),\n",
       " ('CRI', 'DZA'),\n",
       " ('CRI', 'ERI'),\n",
       " ('CRI', 'ETH'),\n",
       " ('CRI', 'GIB'),\n",
       " ('CRI', 'GIN'),\n",
       " ('CRI', 'GNQ'),\n",
       " ('CRI', 'KIR'),\n",
       " ('CRI', 'LBR'),\n",
       " ('CRI', 'MNP'),\n",
       " ('CRI', 'MRT'),\n",
       " ('CRI', 'MWI'),\n",
       " ('CRI', 'NPL'),\n",
       " ('CRI', 'PLW'),\n",
       " ('CRI', 'PSE'),\n",
       " ('CRI', 'SEN'),\n",
       " ('CRI', 'SOM'),\n",
       " ('CRI', 'SSD'),\n",
       " ('CRI', 'STP'),\n",
       " ('CRI', 'TCA'),\n",
       " ('CRI', 'TCD'),\n",
       " ('CRI', 'TJK'),\n",
       " ('CRI', 'TKM'),\n",
       " ('CRI', 'TLS'),\n",
       " ('CRI', 'TON'),\n",
       " ('CRI', 'TUV'),\n",
       " ('CRI', 'WSM'),\n",
       " ('CRI', 'ASM'),\n",
       " ('CRI', 'NRU'),\n",
       " ('CZE', 'FSM'),\n",
       " ('CZE', 'SLB'),\n",
       " ('CZE', 'TUV'),\n",
       " ('CZE', 'ASM'),\n",
       " ('CZE', 'NRU'),\n",
       " ('DNK', 'TUV'),\n",
       " ('DOM', 'MNE'),\n",
       " ('DOM', 'RWA'),\n",
       " ('DOM', 'SDN'),\n",
       " ('DOM', 'YEM'),\n",
       " ('DOM', 'BDI'),\n",
       " ('DOM', 'BEN'),\n",
       " ('DOM', 'BTN'),\n",
       " ('DOM', 'CMR'),\n",
       " ('DOM', 'COG'),\n",
       " ('DOM', 'COM'),\n",
       " ('DOM', 'DJI'),\n",
       " ('DOM', 'DZA'),\n",
       " ('DOM', 'ERI'),\n",
       " ('DOM', 'ETH'),\n",
       " ('DOM', 'FJI'),\n",
       " ('DOM', 'FSM'),\n",
       " ('DOM', 'GAB'),\n",
       " ('DOM', 'GMB'),\n",
       " ('DOM', 'GNB'),\n",
       " ('DOM', 'GUM'),\n",
       " ('DOM', 'KIR'),\n",
       " ('DOM', 'LAO'),\n",
       " ('DOM', 'LSO'),\n",
       " ('DOM', 'MDA'),\n",
       " ('DOM', 'MLI'),\n",
       " ('DOM', 'MNP'),\n",
       " ('DOM', 'MRT'),\n",
       " ('DOM', 'NCL'),\n",
       " ('DOM', 'NER'),\n",
       " ('DOM', 'NPL'),\n",
       " ('DOM', 'PLW'),\n",
       " ('DOM', 'PNG'),\n",
       " ('DOM', 'PRK'),\n",
       " ('DOM', 'PYF'),\n",
       " ('DOM', 'SEN'),\n",
       " ('DOM', 'SLB'),\n",
       " ('DOM', 'SLE'),\n",
       " ('DOM', 'SMR'),\n",
       " ('DOM', 'SOM'),\n",
       " ('DOM', 'SSD'),\n",
       " ('DOM', 'SYR'),\n",
       " ('DOM', 'TCD'),\n",
       " ('DOM', 'TJK'),\n",
       " ('DOM', 'TLS'),\n",
       " ('DOM', 'TON'),\n",
       " ('DOM', 'TUV'),\n",
       " ('DOM', 'VUT'),\n",
       " ('DOM', 'WSM'),\n",
       " ('DOM', 'ASM'),\n",
       " ('DOM', 'MAF'),\n",
       " ('DOM', 'NRU'),\n",
       " ('ECU', 'BDI'),\n",
       " ('ECU', 'BEN'),\n",
       " ('ECU', 'BTN'),\n",
       " ('ECU', 'CAF'),\n",
       " ('ECU', 'COD'),\n",
       " ('ECU', 'DJI'),\n",
       " ('ECU', 'ERI'),\n",
       " ('ECU', 'FJI'),\n",
       " ('ECU', 'FSM'),\n",
       " ('ECU', 'GIB'),\n",
       " ('ECU', 'GMB'),\n",
       " ('ECU', 'GNB'),\n",
       " ('ECU', 'LAO'),\n",
       " ('ECU', 'MNP'),\n",
       " ('ECU', 'MRT'),\n",
       " ('ECU', 'MWI'),\n",
       " ('ECU', 'NPL'),\n",
       " ('ECU', 'PLW'),\n",
       " ('ECU', 'PRK'),\n",
       " ('ECU', 'PSE'),\n",
       " ('ECU', 'SLB'),\n",
       " ('ECU', 'SLE'),\n",
       " ('ECU', 'SMR'),\n",
       " ('ECU', 'SOM'),\n",
       " ('ECU', 'SSD'),\n",
       " ('ECU', 'STP'),\n",
       " ('ECU', 'TCD'),\n",
       " ('ECU', 'TLS'),\n",
       " ('ECU', 'TON'),\n",
       " ('ECU', 'TUV'),\n",
       " ('ECU', 'VUT'),\n",
       " ('ECU', 'WSM'),\n",
       " ('ECU', 'MAF'),\n",
       " ('ECU', 'NRU'),\n",
       " ('FIN', 'FSM'),\n",
       " ('FIN', 'PRK'),\n",
       " ('FIN', 'STP'),\n",
       " ('FIN', 'TON'),\n",
       " ('FIN', 'NRU'),\n",
       " ('FRA', 'TUV'),\n",
       " ('GHA', 'ABW'),\n",
       " ('GHA', 'ALB'),\n",
       " ('GHA', 'BLZ'),\n",
       " ('GHA', 'BTN'),\n",
       " ('GHA', 'COD'),\n",
       " ('GHA', 'COM'),\n",
       " ('GHA', 'CUW'),\n",
       " ('GHA', 'CYM'),\n",
       " ('GHA', 'ERI'),\n",
       " ('GHA', 'FSM'),\n",
       " ('GHA', 'GIB'),\n",
       " ('GHA', 'GRD'),\n",
       " ('GHA', 'GUM'),\n",
       " ('GHA', 'GUY'),\n",
       " ('GHA', 'HTI'),\n",
       " ('GHA', 'KIR'),\n",
       " ('GHA', 'KNA'),\n",
       " ('GHA', 'LAO'),\n",
       " ('GHA', 'LCA'),\n",
       " ('GHA', 'MHL'),\n",
       " ('GHA', 'MNP'),\n",
       " ('GHA', 'NCL'),\n",
       " ('GHA', 'NPL'),\n",
       " ('GHA', 'PLW'),\n",
       " ('GHA', 'PNG'),\n",
       " ('GHA', 'PRK'),\n",
       " ('GHA', 'PSE'),\n",
       " ('GHA', 'PYF'),\n",
       " ('GHA', 'SLB'),\n",
       " ('GHA', 'SMR'),\n",
       " ('GHA', 'SSD'),\n",
       " ('GHA', 'TCA'),\n",
       " ('GHA', 'TJK'),\n",
       " ('GHA', 'TKM'),\n",
       " ('GHA', 'TLS'),\n",
       " ('GHA', 'TON'),\n",
       " ('GHA', 'TUV'),\n",
       " ('GHA', 'VCT'),\n",
       " ('GHA', 'VGB'),\n",
       " ('GHA', 'VUT'),\n",
       " ('GHA', 'WSM'),\n",
       " ('GHA', 'ASM'),\n",
       " ('GHA', 'MAF'),\n",
       " ('GHA', 'NRU'),\n",
       " ('GRC', 'ERI'),\n",
       " ('GRC', 'FSM'),\n",
       " ('GRC', 'LSO'),\n",
       " ('GRC', 'STP'),\n",
       " ('GRC', 'NRU'),\n",
       " ('GTM', 'MDG'),\n",
       " ('GTM', 'MOZ'),\n",
       " ('GTM', 'BDI'),\n",
       " ('GTM', 'BEN'),\n",
       " ('GTM', 'BTN'),\n",
       " ('GTM', 'BWA'),\n",
       " ('GTM', 'CAF'),\n",
       " ('GTM', 'COM'),\n",
       " ('GTM', 'CPV'),\n",
       " ('GTM', 'DJI'),\n",
       " ('GTM', 'ERI'),\n",
       " ('GTM', 'FSM'),\n",
       " ('GTM', 'GEO'),\n",
       " ('GTM', 'GIB'),\n",
       " ('GTM', 'GMB'),\n",
       " ('GTM', 'GNB'),\n",
       " ('GTM', 'GUM'),\n",
       " ('GTM', 'KIR'),\n",
       " ('GTM', 'MDA'),\n",
       " ('GTM', 'MNP'),\n",
       " ('GTM', 'MWI'),\n",
       " ('GTM', 'PNG'),\n",
       " ('GTM', 'PSE'),\n",
       " ('GTM', 'SLB'),\n",
       " ('GTM', 'SLE'),\n",
       " ('GTM', 'SMR'),\n",
       " ('GTM', 'SOM'),\n",
       " ('GTM', 'SSD'),\n",
       " ('GTM', 'STP'),\n",
       " ('GTM', 'TCD'),\n",
       " ('GTM', 'TJK'),\n",
       " ('GTM', 'TKM'),\n",
       " ('GTM', 'TLS'),\n",
       " ('GTM', 'TON'),\n",
       " ('GTM', 'TUV'),\n",
       " ('GTM', 'VUT'),\n",
       " ('GTM', 'WSM'),\n",
       " ('GTM', 'ZWE'),\n",
       " ('GTM', 'ASM'),\n",
       " ('GTM', 'MAF'),\n",
       " ('GTM', 'NRU'),\n",
       " ('HKG', 'ATG'),\n",
       " ('HKG', 'CUW'),\n",
       " ('HKG', 'CYM'),\n",
       " ('HKG', 'DMA'),\n",
       " ('HKG', 'ERI'),\n",
       " ('HKG', 'KNA'),\n",
       " ('HKG', 'LCA'),\n",
       " ('HKG', 'NCL'),\n",
       " ('HKG', 'PSE'),\n",
       " ('HKG', 'PYF'),\n",
       " ('HKG', 'TCA'),\n",
       " ('HKG', 'TLS'),\n",
       " ('HKG', 'VCT'),\n",
       " ('HKG', 'VGB'),\n",
       " ('HKG', 'MAF'),\n",
       " ('HND', 'MDG'),\n",
       " ('HND', 'YEM'),\n",
       " ('HND', 'AFG'),\n",
       " ('HND', 'BDI'),\n",
       " ('HND', 'BEN'),\n",
       " ('HND', 'BTN'),\n",
       " ('HND', 'BWA'),\n",
       " ('HND', 'CAF'),\n",
       " ('HND', 'CMR'),\n",
       " ('HND', 'COG'),\n",
       " ('HND', 'COM'),\n",
       " ('HND', 'CPV'),\n",
       " ('HND', 'DJI'),\n",
       " ('HND', 'ERI'),\n",
       " ('HND', 'FJI'),\n",
       " ('HND', 'FSM'),\n",
       " ('HND', 'GAB'),\n",
       " ('HND', 'GIB'),\n",
       " ('HND', 'GIN'),\n",
       " ('HND', 'GMB'),\n",
       " ('HND', 'GNB'),\n",
       " ('HND', 'GNQ'),\n",
       " ('HND', 'GUM'),\n",
       " ('HND', 'KIR'),\n",
       " ('HND', 'LAO'),\n",
       " ('HND', 'LBR'),\n",
       " ('HND', 'LBY'),\n",
       " ('HND', 'MDA'),\n",
       " ('HND', 'MDV'),\n",
       " ('HND', 'MHL'),\n",
       " ('HND', 'MLI'),\n",
       " ('HND', 'MNP'),\n",
       " ('HND', 'MRT'),\n",
       " ('HND', 'MWI'),\n",
       " ('HND', 'NCL'),\n",
       " ('HND', 'NPL'),\n",
       " ('HND', 'PNG'),\n",
       " ('HND', 'PSE'),\n",
       " ('HND', 'PYF'),\n",
       " ('HND', 'SEN'),\n",
       " ('HND', 'SLB'),\n",
       " ('HND', 'SMR'),\n",
       " ('HND', 'SOM'),\n",
       " ('HND', 'SSD'),\n",
       " ('HND', 'STP'),\n",
       " ('HND', 'SWZ'),\n",
       " ('HND', 'TCA'),\n",
       " ('HND', 'TCD'),\n",
       " ('HND', 'TGO'),\n",
       " ('HND', 'TJK'),\n",
       " ('HND', 'TKM'),\n",
       " ('HND', 'TLS'),\n",
       " ('HND', 'TON'),\n",
       " ('HND', 'TUV'),\n",
       " ('HND', 'UGA'),\n",
       " ('HND', 'VUT'),\n",
       " ('HND', 'WSM'),\n",
       " ('HND', 'ZWE'),\n",
       " ('HND', 'ASM'),\n",
       " ('HND', 'MAF'),\n",
       " ('HND', 'NRU'),\n",
       " ('HUN', 'COM'),\n",
       " ('HUN', 'FSM'),\n",
       " ('HUN', 'KIR'),\n",
       " ('HUN', 'MHL'),\n",
       " ('HUN', 'MNP'),\n",
       " ('HUN', 'PRK'),\n",
       " ('HUN', 'SLB'),\n",
       " ('HUN', 'SSD'),\n",
       " ('HUN', 'TLS'),\n",
       " ('HUN', 'TON'),\n",
       " ('HUN', 'TUV'),\n",
       " ('HUN', 'NRU'),\n",
       " ('IDN', 'SSD'),\n",
       " ('IDN', 'MAF'),\n",
       " ('IND', 'TUV'),\n",
       " ('IND', 'MAF'),\n",
       " ('ITA', 'NRU'),\n",
       " ('JAM', 'MDG'),\n",
       " ('JAM', 'PRT'),\n",
       " ('JAM', 'ROU'),\n",
       " ('JAM', 'YEM'),\n",
       " ('JAM', 'AFG'),\n",
       " ('JAM', 'ALB'),\n",
       " ('JAM', 'AZE'),\n",
       " ('JAM', 'BDI'),\n",
       " ('JAM', 'BEN'),\n",
       " ('JAM', 'BGD'),\n",
       " ('JAM', 'BTN'),\n",
       " ('JAM', 'CAF'),\n",
       " ('JAM', 'COG'),\n",
       " ('JAM', 'COM'),\n",
       " ('JAM', 'CPV'),\n",
       " ('JAM', 'DJI'),\n",
       " ('JAM', 'DZA'),\n",
       " ('JAM', 'ERI'),\n",
       " ('JAM', 'ETH'),\n",
       " ('JAM', 'FSM'),\n",
       " ('JAM', 'GAB'),\n",
       " ('JAM', 'GIB'),\n",
       " ('JAM', 'GIN'),\n",
       " ('JAM', 'GMB'),\n",
       " ('JAM', 'GNB'),\n",
       " ('JAM', 'GNQ'),\n",
       " ('JAM', 'IRN'),\n",
       " ('JAM', 'IRQ'),\n",
       " ('JAM', 'KIR'),\n",
       " ('JAM', 'LAO'),\n",
       " ('JAM', 'LBY'),\n",
       " ('JAM', 'LKA'),\n",
       " ('JAM', 'MHL'),\n",
       " ('JAM', 'MNP'),\n",
       " ('JAM', 'MRT'),\n",
       " ('JAM', 'MWI'),\n",
       " ('JAM', 'NCL'),\n",
       " ('JAM', 'NPL'),\n",
       " ('JAM', 'OMN'),\n",
       " ('JAM', 'PNG'),\n",
       " ('JAM', 'PRK'),\n",
       " ('JAM', 'PRY'),\n",
       " ('JAM', 'PSE'),\n",
       " ('JAM', 'PYF'),\n",
       " ('JAM', 'QAT'),\n",
       " ('JAM', 'SEN'),\n",
       " ('JAM', 'SLB'),\n",
       " ('JAM', 'SLE'),\n",
       " ('JAM', 'SMR'),\n",
       " ('JAM', 'SOM'),\n",
       " ('JAM', 'SSD'),\n",
       " ('JAM', 'STP'),\n",
       " ('JAM', 'SYR'),\n",
       " ('JAM', 'TCD'),\n",
       " ('JAM', 'TGO'),\n",
       " ('JAM', 'TJK'),\n",
       " ('JAM', 'TKM'),\n",
       " ('JAM', 'TLS'),\n",
       " ('JAM', 'TON'),\n",
       " ('JAM', 'TUV'),\n",
       " ('JAM', 'VUT'),\n",
       " ('JAM', 'WSM'),\n",
       " ('JAM', 'ASM'),\n",
       " ('JAM', 'NRU'),\n",
       " ('JOR', 'ABW'),\n",
       " ('JOR', 'ATG'),\n",
       " ('JOR', 'BHS'),\n",
       " ('JOR', 'BRB'),\n",
       " ('JOR', 'BTN'),\n",
       " ('JOR', 'CAF'),\n",
       " ('JOR', 'COD'),\n",
       " ('JOR', 'COM'),\n",
       " ('JOR', 'CPV'),\n",
       " ('JOR', 'CUW'),\n",
       " ('JOR', 'CYM'),\n",
       " ('JOR', 'FSM'),\n",
       " ('JOR', 'GIB'),\n",
       " ('JOR', 'GNQ'),\n",
       " ('JOR', 'GRD'),\n",
       " ('JOR', 'GUM'),\n",
       " ('JOR', 'GUY'),\n",
       " ('JOR', 'KIR'),\n",
       " ('JOR', 'KNA'),\n",
       " ('JOR', 'LAO'),\n",
       " ('JOR', 'LCA'),\n",
       " ('JOR', 'MHL'),\n",
       " ('JOR', 'MNP'),\n",
       " ('JOR', 'MWI'),\n",
       " ('JOR', 'NCL'),\n",
       " ('JOR', 'PNG'),\n",
       " ('JOR', 'PRK'),\n",
       " ('JOR', 'PYF'),\n",
       " ('JOR', 'SLB'),\n",
       " ('JOR', 'SMR'),\n",
       " ('JOR', 'STP'),\n",
       " ('JOR', 'SUR'),\n",
       " ('JOR', 'TCA'),\n",
       " ('JOR', 'TKM'),\n",
       " ('JOR', 'TLS'),\n",
       " ('JOR', 'TON'),\n",
       " ('JOR', 'TTO'),\n",
       " ('JOR', 'TUV'),\n",
       " ('JOR', 'VCT'),\n",
       " ('JOR', 'VGB'),\n",
       " ('JOR', 'VUT'),\n",
       " ('JOR', 'WSM'),\n",
       " ('JOR', 'ASM'),\n",
       " ('JOR', 'MAF'),\n",
       " ('JOR', 'NRU'),\n",
       " ('KHM', 'ABW'),\n",
       " ('KHM', 'AFG'),\n",
       " ('KHM', 'ATG'),\n",
       " ('KHM', 'BDI'),\n",
       " ('KHM', 'BRB'),\n",
       " ('KHM', 'BTN'),\n",
       " ('KHM', 'CAF'),\n",
       " ('KHM', 'COD'),\n",
       " ('KHM', 'COM'),\n",
       " ('KHM', 'CYM'),\n",
       " ('KHM', 'DMA'),\n",
       " ('KHM', 'ERI'),\n",
       " ...]"
      ]
     },
     "execution_count": 19,
     "metadata": {},
     "output_type": "execute_result"
    }
   ],
   "source": [
    "# 2. Create positive and negative samples\n",
    "positive_edges = list(aggregated_graph.edges())\n",
    "\n",
    "# def generate_negative_edges(g, num_neg_samples):\n",
    "#     # Randomly sample pairs of nodes that are not connected\n",
    "#     num_nodes = g.num_nodes()\n",
    "#     all_possible_edges = set((i, j) for i in range(num_nodes) for j in range(num_nodes) if i != j)\n",
    "#     existing_edges = set(zip(g.edges()[0].numpy(), g.edges()[1].numpy()))\n",
    "#     negative_edges = list(all_possible_edges - existing_edges)\n",
    "#     negative_edges = negative_edges[:num_neg_samples]\n",
    "#     return torch.tensor(negative_edges, dtype=torch.int64).T\n",
    "\n",
    "# all_possible_edges = generate_negative_edges(g, 1000)  # Generate 1000 random potential links\n",
    "\n",
    "negative_edges = []\n",
    "# get all pairs of directed edges possible using the nodes in the graph and subtract the positive\n",
    "\n",
    "for node1 in aggregated_graph.nodes():\n",
    "    for node2 in aggregated_graph.nodes():\n",
    "        if node1 != node2 and not aggregated_graph.has_edge(node1, node2):\n",
    "            negative_edges.append((node1, node2))\n",
    "\n",
    "negative_edges   # Sample the same number of negative edges as positive edges"
   ]
  },
  {
   "cell_type": "code",
   "execution_count": 20,
   "metadata": {},
   "outputs": [
    {
     "data": {
      "text/plain": [
       "27400"
      ]
     },
     "execution_count": 20,
     "metadata": {},
     "output_type": "execute_result"
    }
   ],
   "source": [
    "len(positive_edges)"
   ]
  },
  {
   "cell_type": "code",
   "execution_count": 21,
   "metadata": {},
   "outputs": [
    {
     "data": {
      "text/plain": [
       "15656"
      ]
     },
     "execution_count": 21,
     "metadata": {},
     "output_type": "execute_result"
    }
   ],
   "source": [
    "len(negative_edges)"
   ]
  },
  {
   "cell_type": "code",
   "execution_count": 22,
   "metadata": {},
   "outputs": [],
   "source": [
    "# # 3. Combine embeddings and labels\n",
    "# X = []\n",
    "# y = []\n",
    "\n",
    "# # Positive samples\n",
    "# for u, v in positive_edges:\n",
    "#     X.append(get_edge_embedding(u, v))\n",
    "#     y.append(1)\n",
    "\n",
    "# # Negative samples\n",
    "# for u, v in negative_edges:\n",
    "#     X.append(get_edge_embedding(u, v))\n",
    "#     y.append(0)\n",
    "\n",
    "# X = np.array(X)\n",
    "# y = np.array(y)"
   ]
  },
  {
   "cell_type": "code",
   "execution_count": 23,
   "metadata": {},
   "outputs": [],
   "source": [
    "# Sort positive edges by their weights in ascending order\n",
    "positive_edges_sorted = sorted(positive_edges, key=lambda edge: aggregated_graph[edge[0]][edge[1]]['weight'])\n",
    "\n",
    "# Keep only the top 'n' edges based on the number of negative edges\n",
    "n = len(negative_edges)\n",
    "downsampled_positive_edges = positive_edges_sorted[-n:]\n"
   ]
  },
  {
   "cell_type": "code",
   "execution_count": 24,
   "metadata": {},
   "outputs": [
    {
     "name": "stdout",
     "output_type": "stream",
     "text": [
      "Feature matrix shape: (31312, 128)\n",
      "Label array shape: (31312,)\n"
     ]
    }
   ],
   "source": [
    "# 3. Combine embeddings and labels\n",
    "X = []\n",
    "y = []\n",
    "\n",
    "# Positive samples\n",
    "for u, v in downsampled_positive_edges:\n",
    "    # Get edge embedding using the modified function that includes edge weight\n",
    "    X.append(get_edge_embedding(u, v, aggregated_graph, model))\n",
    "    y.append(1)\n",
    "\n",
    "# Negative samples\n",
    "for u, v in negative_edges:\n",
    "    # Get edge embedding using the modified function that includes edge weight\n",
    "    X.append(get_edge_embedding(u, v, aggregated_graph, model))\n",
    "    y.append(0)\n",
    "\n",
    "X = np.array(X)\n",
    "y = np.array(y)\n",
    "\n",
    "# Optional: Check the shape of the resulting feature matrix\n",
    "print(\"Feature matrix shape:\", X.shape)\n",
    "print(\"Label array shape:\", y.shape)\n"
   ]
  },
  {
   "cell_type": "code",
   "execution_count": 25,
   "metadata": {},
   "outputs": [],
   "source": [
    "# 4. Train-test split \n",
    "X_train, X_test, y_train, y_test = train_test_split(X, y, test_size=0.2, stratify=y, random_state=42)\n"
   ]
  },
  {
   "cell_type": "code",
   "execution_count": 26,
   "metadata": {},
   "outputs": [
    {
     "data": {
      "text/html": [
       "<style>#sk-container-id-1 {color: black;background-color: white;}#sk-container-id-1 pre{padding: 0;}#sk-container-id-1 div.sk-toggleable {background-color: white;}#sk-container-id-1 label.sk-toggleable__label {cursor: pointer;display: block;width: 100%;margin-bottom: 0;padding: 0.3em;box-sizing: border-box;text-align: center;}#sk-container-id-1 label.sk-toggleable__label-arrow:before {content: \"▸\";float: left;margin-right: 0.25em;color: #696969;}#sk-container-id-1 label.sk-toggleable__label-arrow:hover:before {color: black;}#sk-container-id-1 div.sk-estimator:hover label.sk-toggleable__label-arrow:before {color: black;}#sk-container-id-1 div.sk-toggleable__content {max-height: 0;max-width: 0;overflow: hidden;text-align: left;background-color: #f0f8ff;}#sk-container-id-1 div.sk-toggleable__content pre {margin: 0.2em;color: black;border-radius: 0.25em;background-color: #f0f8ff;}#sk-container-id-1 input.sk-toggleable__control:checked~div.sk-toggleable__content {max-height: 200px;max-width: 100%;overflow: auto;}#sk-container-id-1 input.sk-toggleable__control:checked~label.sk-toggleable__label-arrow:before {content: \"▾\";}#sk-container-id-1 div.sk-estimator input.sk-toggleable__control:checked~label.sk-toggleable__label {background-color: #d4ebff;}#sk-container-id-1 div.sk-label input.sk-toggleable__control:checked~label.sk-toggleable__label {background-color: #d4ebff;}#sk-container-id-1 input.sk-hidden--visually {border: 0;clip: rect(1px 1px 1px 1px);clip: rect(1px, 1px, 1px, 1px);height: 1px;margin: -1px;overflow: hidden;padding: 0;position: absolute;width: 1px;}#sk-container-id-1 div.sk-estimator {font-family: monospace;background-color: #f0f8ff;border: 1px dotted black;border-radius: 0.25em;box-sizing: border-box;margin-bottom: 0.5em;}#sk-container-id-1 div.sk-estimator:hover {background-color: #d4ebff;}#sk-container-id-1 div.sk-parallel-item::after {content: \"\";width: 100%;border-bottom: 1px solid gray;flex-grow: 1;}#sk-container-id-1 div.sk-label:hover label.sk-toggleable__label {background-color: #d4ebff;}#sk-container-id-1 div.sk-serial::before {content: \"\";position: absolute;border-left: 1px solid gray;box-sizing: border-box;top: 0;bottom: 0;left: 50%;z-index: 0;}#sk-container-id-1 div.sk-serial {display: flex;flex-direction: column;align-items: center;background-color: white;padding-right: 0.2em;padding-left: 0.2em;position: relative;}#sk-container-id-1 div.sk-item {position: relative;z-index: 1;}#sk-container-id-1 div.sk-parallel {display: flex;align-items: stretch;justify-content: center;background-color: white;position: relative;}#sk-container-id-1 div.sk-item::before, #sk-container-id-1 div.sk-parallel-item::before {content: \"\";position: absolute;border-left: 1px solid gray;box-sizing: border-box;top: 0;bottom: 0;left: 50%;z-index: -1;}#sk-container-id-1 div.sk-parallel-item {display: flex;flex-direction: column;z-index: 1;position: relative;background-color: white;}#sk-container-id-1 div.sk-parallel-item:first-child::after {align-self: flex-end;width: 50%;}#sk-container-id-1 div.sk-parallel-item:last-child::after {align-self: flex-start;width: 50%;}#sk-container-id-1 div.sk-parallel-item:only-child::after {width: 0;}#sk-container-id-1 div.sk-dashed-wrapped {border: 1px dashed gray;margin: 0 0.4em 0.5em 0.4em;box-sizing: border-box;padding-bottom: 0.4em;background-color: white;}#sk-container-id-1 div.sk-label label {font-family: monospace;font-weight: bold;display: inline-block;line-height: 1.2em;}#sk-container-id-1 div.sk-label-container {text-align: center;}#sk-container-id-1 div.sk-container {/* jupyter's `normalize.less` sets `[hidden] { display: none; }` but bootstrap.min.css set `[hidden] { display: none !important; }` so we also need the `!important` here to be able to override the default hidden behavior on the sphinx rendered scikit-learn.org. See: https://github.com/scikit-learn/scikit-learn/issues/21755 */display: inline-block !important;position: relative;}#sk-container-id-1 div.sk-text-repr-fallback {display: none;}</style><div id=\"sk-container-id-1\" class=\"sk-top-container\"><div class=\"sk-text-repr-fallback\"><pre>LogisticRegression(max_iter=1000, random_state=42)</pre><b>In a Jupyter environment, please rerun this cell to show the HTML representation or trust the notebook. <br />On GitHub, the HTML representation is unable to render, please try loading this page with nbviewer.org.</b></div><div class=\"sk-container\" hidden><div class=\"sk-item\"><div class=\"sk-estimator sk-toggleable\"><input class=\"sk-toggleable__control sk-hidden--visually\" id=\"sk-estimator-id-1\" type=\"checkbox\" checked><label for=\"sk-estimator-id-1\" class=\"sk-toggleable__label sk-toggleable__label-arrow\">LogisticRegression</label><div class=\"sk-toggleable__content\"><pre>LogisticRegression(max_iter=1000, random_state=42)</pre></div></div></div></div></div>"
      ],
      "text/plain": [
       "LogisticRegression(max_iter=1000, random_state=42)"
      ]
     },
     "execution_count": 26,
     "metadata": {},
     "output_type": "execute_result"
    }
   ],
   "source": [
    "# 5. Train Logistic Regression\n",
    "clf = LogisticRegression(max_iter=1000, random_state=42)\n",
    "clf.fit(X_train, y_train)"
   ]
  },
  {
   "cell_type": "code",
   "execution_count": 27,
   "metadata": {},
   "outputs": [
    {
     "name": "stdout",
     "output_type": "stream",
     "text": [
      "Classification Report:\n",
      "              precision    recall  f1-score   support\n",
      "\n",
      "           0       0.86      0.87      0.86      3132\n",
      "           1       0.87      0.86      0.86      3131\n",
      "\n",
      "    accuracy                           0.86      6263\n",
      "   macro avg       0.86      0.86      0.86      6263\n",
      "weighted avg       0.86      0.86      0.86      6263\n",
      "\n",
      "AUC-ROC Score:\n",
      "0.9335348162179955\n"
     ]
    }
   ],
   "source": [
    "# 6. Evaluate the Model \n",
    "y_pred = clf.predict(X_test)\n",
    "y_pred_proba = clf.predict_proba(X_test)[:, 1]\n",
    "\n",
    "\n",
    "\n",
    "print(\"Classification Report:\")\n",
    "print(classification_report(y_test, y_pred))\n",
    "\n",
    "print(\"AUC-ROC Score:\")\n",
    "print(roc_auc_score(y_test, y_pred_proba))"
   ]
  },
  {
   "cell_type": "code",
   "execution_count": 28,
   "metadata": {},
   "outputs": [
    {
     "name": "stdout",
     "output_type": "stream",
     "text": [
      "Threshold: 0.10\n",
      "Precision (Class 0): 0.9670, Recall (Class 0): 0.4588, F1 (Class 0): 0.6223\n",
      "Precision (Class 1): 0.6452, Recall (Class 1): 0.9844, F1 (Class 1): 0.7795\n",
      "AUC-ROC: 0.9335\n",
      "Accuracy: 0.7215\n",
      "\n",
      "Threshold: 0.20\n",
      "Precision (Class 0): 0.9407, Recall (Class 0): 0.6427, F1 (Class 0): 0.7637\n",
      "Precision (Class 1): 0.7286, Recall (Class 1): 0.9594, F1 (Class 1): 0.8282\n",
      "AUC-ROC: 0.9335\n",
      "Accuracy: 0.8011\n",
      "\n",
      "Threshold: 0.30\n",
      "Precision (Class 0): 0.9163, Recall (Class 0): 0.7344, F1 (Class 0): 0.8153\n",
      "Precision (Class 1): 0.7783, Recall (Class 1): 0.9329, F1 (Class 1): 0.8486\n",
      "AUC-ROC: 0.9335\n",
      "Accuracy: 0.8336\n",
      "\n",
      "Threshold: 0.40\n",
      "Precision (Class 0): 0.8895, Recall (Class 0): 0.8151, F1 (Class 0): 0.8507\n",
      "Precision (Class 1): 0.8294, Recall (Class 1): 0.8988, F1 (Class 1): 0.8627\n",
      "AUC-ROC: 0.9335\n",
      "Accuracy: 0.8569\n",
      "\n",
      "Threshold: 0.50\n",
      "Precision (Class 0): 0.8590, Recall (Class 0): 0.8672, F1 (Class 0): 0.8630\n",
      "Precision (Class 1): 0.8658, Recall (Class 1): 0.8576, F1 (Class 1): 0.8617\n",
      "AUC-ROC: 0.9335\n",
      "Accuracy: 0.8624\n",
      "\n",
      "Threshold: 0.60\n",
      "Precision (Class 0): 0.8239, Recall (Class 0): 0.9064, F1 (Class 0): 0.8632\n",
      "Precision (Class 1): 0.8960, Recall (Class 1): 0.8061, F1 (Class 1): 0.8487\n",
      "AUC-ROC: 0.9335\n",
      "Accuracy: 0.8563\n",
      "\n",
      "Threshold: 0.70\n",
      "Precision (Class 0): 0.7806, Recall (Class 0): 0.9381, F1 (Class 0): 0.8521\n",
      "Precision (Class 1): 0.9224, Recall (Class 1): 0.7362, F1 (Class 1): 0.8188\n",
      "AUC-ROC: 0.9335\n",
      "Accuracy: 0.8371\n",
      "\n",
      "Threshold: 0.80\n",
      "Precision (Class 0): 0.7285, Recall (Class 0): 0.9620, F1 (Class 0): 0.8291\n",
      "Precision (Class 1): 0.9441, Recall (Class 1): 0.6413, F1 (Class 1): 0.7638\n",
      "AUC-ROC: 0.9335\n",
      "Accuracy: 0.8017\n",
      "\n",
      "Threshold: 0.90\n",
      "Precision (Class 0): 0.6619, Recall (Class 0): 0.9818, F1 (Class 0): 0.7907\n",
      "Precision (Class 1): 0.9647, Recall (Class 1): 0.4982, F1 (Class 1): 0.6571\n",
      "AUC-ROC: 0.9335\n",
      "Accuracy: 0.7401\n",
      "\n"
     ]
    }
   ],
   "source": [
    "# Try different thresholds for classification\n",
    "\n",
    "# Define thresholds to test\n",
    "thresholds = np.arange(0.1, 1.0, 0.1)\n",
    "\n",
    "# Store metrics for each threshold\n",
    "results = []\n",
    "\n",
    "for threshold in thresholds:\n",
    "    # Apply threshold\n",
    "    y_pred_threshold = (y_pred_proba >= threshold).astype(int)\n",
    "    \n",
    "    # Compute classification report and AUC-ROC\n",
    "    report = classification_report(y_test, y_pred_threshold, output_dict=True)\n",
    "    auc = roc_auc_score(y_test, y_pred_proba)\n",
    "\n",
    "\n",
    "    # Store metrics for comparison\n",
    "    results.append({\n",
    "        \"Threshold\": threshold,\n",
    "        \"Precision_0\": report[\"0\"][\"precision\"],\n",
    "        \"Recall_0\": report[\"0\"][\"recall\"],\n",
    "        \"F1_0\": report[\"0\"][\"f1-score\"],\n",
    "        \"Precision_1\": report[\"1\"][\"precision\"],\n",
    "        \"Recall_1\": report[\"1\"][\"recall\"],\n",
    "        \"F1_1\": report[\"1\"][\"f1-score\"],\n",
    "        \"AUC-ROC\": auc,\n",
    "        \"Accuracy\": report[\"accuracy\"]\n",
    "    })\n",
    "\n",
    "# Print results for each threshold\n",
    "for result in results:\n",
    "    print(f\"Threshold: {result['Threshold']:.2f}\")\n",
    "    print(f\"Precision (Class 0): {result['Precision_0']:.4f}, Recall (Class 0): {result['Recall_0']:.4f}, F1 (Class 0): {result['F1_0']:.4f}\")\n",
    "    print(f\"Precision (Class 1): {result['Precision_1']:.4f}, Recall (Class 1): {result['Recall_1']:.4f}, F1 (Class 1): {result['F1_1']:.4f}\")\n",
    "    print(f\"AUC-ROC: {result['AUC-ROC']:.4f}\")\n",
    "    print(f\"Accuracy: {result['Accuracy']:.4f}\\n\")\n",
    "\n"
   ]
  },
  {
   "cell_type": "code",
   "execution_count": 29,
   "metadata": {},
   "outputs": [
    {
     "name": "stdout",
     "output_type": "stream",
     "text": [
      "Classification Report:\n",
      "              precision    recall  f1-score   support\n",
      "\n",
      "           0       0.86      0.87      0.86      3132\n",
      "           1       0.87      0.86      0.86      3131\n",
      "\n",
      "    accuracy                           0.86      6263\n",
      "   macro avg       0.86      0.86      0.86      6263\n",
      "weighted avg       0.86      0.86      0.86      6263\n",
      "\n"
     ]
    }
   ],
   "source": [
    "# Use threshold of 0.5 for classification\n",
    "threshold = 0.5\n",
    "y_pred_threshold = (y_pred_proba >= threshold).astype(int)\n",
    "print(\"Classification Report:\")\n",
    "print(classification_report(y_test, y_pred_threshold))\n"
   ]
  },
  {
   "cell_type": "code",
   "execution_count": 30,
   "metadata": {},
   "outputs": [],
   "source": [
    "# methods = [\"hadamard\", \"average\", \"concat\"]\n",
    "# results = {}\n",
    "\n",
    "# for method in methods:\n",
    "#     X = [get_edge_embedding(u, v, method=method, graph=aggregated_graph, model=model) for u, v in positive_edges + negative_edges]\n",
    "#     y = [1] * len(positive_edges) + [0] * len(negative_edges)\n",
    "#     X_train, X_test, y_train, y_test = train_test_split(X, y, test_size=0.2, random_state=42)\n",
    "    \n",
    "#     clf = LogisticRegression(max_iter=1000, random_state=42)\n",
    "#     clf.fit(X_train, y_train)\n",
    "#     y_pred_proba = clf.predict_proba(X_test)[:, 1]\n",
    "    \n",
    "#     results[method] = roc_auc_score(y_test, y_pred_proba)\n",
    "\n",
    "# print(\"AUC-ROC scores by method:\")\n",
    "# print(results)\n"
   ]
  },
  {
   "cell_type": "code",
   "execution_count": 31,
   "metadata": {},
   "outputs": [
    {
     "name": "stdout",
     "output_type": "stream",
     "text": [
      "Classification Report:\n",
      "              precision    recall  f1-score   support\n",
      "\n",
      "           0       0.86      0.87      0.86      4697\n",
      "           1       0.87      0.85      0.86      4697\n",
      "\n",
      "    accuracy                           0.86      9394\n",
      "   macro avg       0.86      0.86      0.86      9394\n",
      "weighted avg       0.86      0.86      0.86      9394\n",
      "\n"
     ]
    }
   ],
   "source": [
    "# Use concatenation method for classification\n",
    "\n",
    "X = [get_edge_embedding(u, v, method=\"concat\", graph=aggregated_graph, model=model) for u, v in downsampled_positive_edges + negative_edges]\n",
    "y = [1] * len(downsampled_positive_edges) + [0] * len(negative_edges)\n",
    "X_train, X_test, y_train, y_test = train_test_split(X, y, test_size=0.3, random_state=42, stratify=y)\n",
    "\n",
    "clf = LogisticRegression(max_iter=1000, random_state=42)\n",
    "clf.fit(X_train, y_train)\n",
    "y_pred = clf.predict(X_test)\n",
    "y_pred_proba = clf.predict_proba(X_test)[:, 1]\n",
    "\n",
    "print(\"Classification Report:\")\n",
    "print(classification_report(y_test, y_pred))\n"
   ]
  },
  {
   "cell_type": "code",
   "execution_count": 32,
   "metadata": {},
   "outputs": [
    {
     "data": {
      "image/png": "[encoded data removed]",
      "text/plain": [
       "<Figure size 800x600 with 1 Axes>"
      ]
     },
     "metadata": {},
     "output_type": "display_data"
    }
   ],
   "source": [
    "# ROC Curve\n",
    "from sklearn.metrics import roc_curve\n",
    "\n",
    "fpr, tpr, thresholds = roc_curve(y_test, y_pred_proba)\n",
    "\n",
    "plt.figure(figsize=(8, 6))\n",
    "plt.plot(fpr, tpr, color='blue', label='ROC curve')\n",
    "plt.plot([0, 1], [0, 1], color='gray', linestyle='--')\n",
    "plt.xlabel('False Positive Rate')\n",
    "plt.ylabel('True Positive Rate')\n",
    "plt.title('Receiver Operating Characteristic (ROC) Curve')\n",
    "plt.legend()\n",
    "plt.show()\n"
   ]
  },
  {
   "cell_type": "code",
   "execution_count": 33,
   "metadata": {},
   "outputs": [
    {
     "data": {
      "image/png": "[encoded data removed]",
      "text/plain": [
       "<Figure size 800x600 with 1 Axes>"
      ]
     },
     "metadata": {},
     "output_type": "display_data"
    }
   ],
   "source": [
    "# confusion matrix\n",
    "from sklearn.metrics import confusion_matrix\n",
    "\n",
    "conf_matrix = confusion_matrix(y_test, y_pred)\n",
    "\n",
    "plt.figure(figsize=(8, 6))\n",
    "sns.heatmap(conf_matrix, annot=True, fmt='d', cmap='Blues', cbar=False)\n",
    "plt.xlabel('Predicted Labels')\n",
    "plt.ylabel('True Labels')\n",
    "plt.title('Confusion Matrix')\n",
    "plt.show()\n",
    "\n"
   ]
  },
  {
   "cell_type": "code",
   "execution_count": 34,
   "metadata": {},
   "outputs": [],
   "source": [
    "# Get Predicted Links"
   ]
  },
  {
   "cell_type": "code",
   "execution_count": 35,
   "metadata": {},
   "outputs": [
    {
     "data": {
      "text/html": [
       "<div>\n",
       "<style scoped>\n",
       "    .dataframe tbody tr th:only-of-type {\n",
       "        vertical-align: middle;\n",
       "    }\n",
       "\n",
       "    .dataframe tbody tr th {\n",
       "        vertical-align: top;\n",
       "    }\n",
       "\n",
       "    .dataframe thead th {\n",
       "        text-align: right;\n",
       "    }\n",
       "</style>\n",
       "<table border=\"1\" class=\"dataframe\">\n",
       "  <thead>\n",
       "    <tr style=\"text-align: right;\">\n",
       "      <th></th>\n",
       "      <th>year</th>\n",
       "      <th>exporter_id</th>\n",
       "      <th>importer_id</th>\n",
       "      <th>section_no</th>\n",
       "      <th>value</th>\n",
       "    </tr>\n",
       "  </thead>\n",
       "  <tbody>\n",
       "    <tr>\n",
       "      <th>0</th>\n",
       "      <td>2019</td>\n",
       "      <td>ABW</td>\n",
       "      <td>AGO</td>\n",
       "      <td>16</td>\n",
       "      <td>5.142095e-08</td>\n",
       "    </tr>\n",
       "    <tr>\n",
       "      <th>1</th>\n",
       "      <td>2019</td>\n",
       "      <td>ABW</td>\n",
       "      <td>ARE</td>\n",
       "      <td>4</td>\n",
       "      <td>4.985430e-08</td>\n",
       "    </tr>\n",
       "    <tr>\n",
       "      <th>2</th>\n",
       "      <td>2019</td>\n",
       "      <td>ABW</td>\n",
       "      <td>ARE</td>\n",
       "      <td>6</td>\n",
       "      <td>4.980711e-08</td>\n",
       "    </tr>\n",
       "    <tr>\n",
       "      <th>3</th>\n",
       "      <td>2019</td>\n",
       "      <td>ABW</td>\n",
       "      <td>ARE</td>\n",
       "      <td>7</td>\n",
       "      <td>6.410041e-07</td>\n",
       "    </tr>\n",
       "    <tr>\n",
       "      <th>4</th>\n",
       "      <td>2019</td>\n",
       "      <td>ABW</td>\n",
       "      <td>ARE</td>\n",
       "      <td>9</td>\n",
       "      <td>1.626104e-08</td>\n",
       "    </tr>\n",
       "  </tbody>\n",
       "</table>\n",
       "</div>"
      ],
      "text/plain": [
       "   year exporter_id importer_id  section_no         value\n",
       "0  2019         ABW         AGO          16  5.142095e-08\n",
       "1  2019         ABW         ARE           4  4.985430e-08\n",
       "2  2019         ABW         ARE           6  4.980711e-08\n",
       "3  2019         ABW         ARE           7  6.410041e-07\n",
       "4  2019         ABW         ARE           9  1.626104e-08"
      ]
     },
     "execution_count": 35,
     "metadata": {},
     "output_type": "execute_result"
    }
   ],
   "source": [
    "# use 2019 data to predict the links\n",
    "df_2019 = pd.read_csv('edge_data_2019_normalized.csv')\n",
    "df_2019.head()\n"
   ]
  },
  {
   "cell_type": "code",
   "execution_count": 36,
   "metadata": {},
   "outputs": [
    {
     "data": {
      "text/plain": [
       "(299692, 5)"
      ]
     },
     "execution_count": 36,
     "metadata": {},
     "output_type": "execute_result"
    }
   ],
   "source": [
    "df_2019.shape"
   ]
  },
  {
   "cell_type": "code",
   "execution_count": 37,
   "metadata": {},
   "outputs": [
    {
     "name": "stdout",
     "output_type": "stream",
     "text": [
      "Number of nodes in aggregated graph 2019: 208\n",
      "Number of edges in aggregated graph 2019: 28479\n"
     ]
    }
   ],
   "source": [
    "# use 2019 data to predict the links\n",
    "df_2019 = pd.read_csv('edge_data_2019_normalized.csv')\n",
    "df_2019.head()\n",
    "\n",
    "# Create a directed multigraph\n",
    "G_2019 = nx.MultiDiGraph()\n",
    "\n",
    "# There will be more than one edge between two nodes if there are multiple trades between them since for each section_no, there is an edge between the exporter and importer\n",
    "for i in range(len(df_2019)):\n",
    "    G_2019.add_edge(df_2019['exporter_id'][i], df_2019['importer_id'][i], section_no = df_2019['section_no'][i], value = df_2019['value'][i])\n",
    "\n",
    "# Aggregate edges by summing the total value of trade\n",
    "aggregated_graph_2019 = nx.DiGraph()\n",
    "\n",
    "for u, v, data in G_2019.edges(data=True):\n",
    "    # Assuming 'trade_value' is a key in your data\n",
    "    value = data.get('value', 0)  # Default to 0 if key is missing\n",
    "    if aggregated_graph_2019.has_edge(u, v):\n",
    "        aggregated_graph_2019[u][v]['weight'] += value  # Add trade value to existing weight\n",
    "    else:\n",
    "        aggregated_graph_2019.add_edge(u, v, weight=value)  # Initialize with trade value\n",
    "\n",
    "print(\"Number of nodes in aggregated graph 2019:\", aggregated_graph_2019.number_of_nodes())\n",
    "print(\"Number of edges in aggregated graph 2019:\", aggregated_graph_2019.number_of_edges())\n"
   ]
  },
  {
   "cell_type": "code",
   "execution_count": 38,
   "metadata": {},
   "outputs": [],
   "source": [
    "# Remove self-loops\n",
    "aggregated_graph_2019.remove_edges_from(nx.selfloop_edges(aggregated_graph_2019))\n"
   ]
  },
  {
   "cell_type": "code",
   "execution_count": 39,
   "metadata": {},
   "outputs": [],
   "source": [
    "\n",
    "# Generate embeddings for 2019 graph\n",
    "# node2vec = Node2Vec(aggregated_graph_2019, dimensions=64, walk_length=30, num_walks=200, workers=4)\n",
    "# model_2019 = node2vec.fit(window=10, min_count=1, batch_words=4)\n",
    "\n"
   ]
  },
  {
   "cell_type": "code",
   "execution_count": null,
   "metadata": {},
   "outputs": [],
   "source": []
  },
  {
   "cell_type": "code",
   "execution_count": 40,
   "metadata": {},
   "outputs": [],
   "source": [
    "# Get predicted links\n",
    "\n",
    "positive_edges_2019 = list(aggregated_graph_2019.edges())\n",
    "\n",
    "# Negative samples\n",
    "negative_edges_2019 = []\n",
    "# get all pairs of directed edges possible using the nodes in the graph and subtract the positive\n",
    "\n",
    "for node1 in aggregated_graph_2019.nodes():\n",
    "    for node2 in aggregated_graph_2019.nodes():\n",
    "        if node1 != node2 and not aggregated_graph_2019.has_edge(node1, node2):\n",
    "            negative_edges_2019.append((node1, node2))\n",
    "            \n"
   ]
  },
  {
   "cell_type": "code",
   "execution_count": null,
   "metadata": {},
   "outputs": [],
   "source": []
  },
  {
   "cell_type": "code",
   "execution_count": 41,
   "metadata": {},
   "outputs": [
    {
     "data": {
      "text/plain": [
       "28454"
      ]
     },
     "execution_count": 41,
     "metadata": {},
     "output_type": "execute_result"
    }
   ],
   "source": [
    "len(positive_edges_2019)"
   ]
  },
  {
   "cell_type": "code",
   "execution_count": 42,
   "metadata": {},
   "outputs": [
    {
     "data": {
      "text/plain": [
       "14602"
      ]
     },
     "execution_count": 42,
     "metadata": {},
     "output_type": "execute_result"
    }
   ],
   "source": [
    "len(negative_edges_2019)"
   ]
  },
  {
   "cell_type": "code",
   "execution_count": 43,
   "metadata": {},
   "outputs": [
    {
     "data": {
      "text/plain": [
       "set()"
      ]
     },
     "execution_count": 43,
     "metadata": {},
     "output_type": "execute_result"
    }
   ],
   "source": [
    "# check if there are any common edges between the positive and negative edges\n",
    "common_edges = set(positive_edges_2019).intersection(set(negative_edges_2019))\n",
    "common_edges"
   ]
  },
  {
   "cell_type": "code",
   "execution_count": 44,
   "metadata": {},
   "outputs": [],
   "source": [
    "# Combine embeddings and labels\n",
    "\n",
    "X_2019 = [get_edge_embedding(u, v, method=\"concat\", graph=aggregated_graph_2019, model=model) for u, v in positive_edges_2019 + negative_edges_2019]\n",
    "y_2019 = [1] * len(positive_edges_2019) + [0] * len(negative_edges_2019)\n"
   ]
  },
  {
   "cell_type": "code",
   "execution_count": 45,
   "metadata": {},
   "outputs": [
    {
     "data": {
      "text/plain": [
       "43056"
      ]
     },
     "execution_count": 45,
     "metadata": {},
     "output_type": "execute_result"
    }
   ],
   "source": [
    "len(X_2019)"
   ]
  },
  {
   "cell_type": "code",
   "execution_count": null,
   "metadata": {},
   "outputs": [],
   "source": []
  },
  {
   "cell_type": "code",
   "execution_count": 46,
   "metadata": {},
   "outputs": [
    {
     "data": {
      "text/plain": [
       "0"
      ]
     },
     "execution_count": 46,
     "metadata": {},
     "output_type": "execute_result"
    }
   ],
   "source": [
    "# check if there are any duplicate rows in X_2019\n",
    "X_2019_df = pd.DataFrame(X_2019)\n",
    "X_2019_df.duplicated().sum()"
   ]
  },
  {
   "cell_type": "code",
   "execution_count": 47,
   "metadata": {},
   "outputs": [
    {
     "data": {
      "text/plain": [
       "[('ABW', 'AGO'),\n",
       " ('ABW', 'ARE'),\n",
       " ('ABW', 'ARG'),\n",
       " ('ABW', 'AUT'),\n",
       " ('ABW', 'CHE'),\n",
       " ('ABW', 'CRI'),\n",
       " ('ABW', 'DOM'),\n",
       " ('ABW', 'ESP'),\n",
       " ('ABW', 'GRC'),\n",
       " ('ABW', 'HKG')]"
      ]
     },
     "execution_count": 47,
     "metadata": {},
     "output_type": "execute_result"
    }
   ],
   "source": [
    "# predict the links\n",
    "y_pred_2019 = clf.predict(X_2019)\n",
    "y_pred_proba_2019 = clf.predict_proba(X_2019)[:, 1]\n",
    "\n",
    "# Get the predicted links\n",
    "predicted_links = []\n",
    "\n",
    "for i, (u, v) in enumerate(positive_edges_2019 + negative_edges_2019):\n",
    "    if y_pred_2019[i] == 1:\n",
    "        predicted_links.append((u, v))\n",
    "\n",
    "# Sample some predicted links\n",
    "predicted_links[:10]\n"
   ]
  },
  {
   "cell_type": "code",
   "execution_count": 48,
   "metadata": {},
   "outputs": [
    {
     "data": {
      "text/plain": [
       "21489"
      ]
     },
     "execution_count": 48,
     "metadata": {},
     "output_type": "execute_result"
    }
   ],
   "source": [
    "len(predicted_links)"
   ]
  },
  {
   "cell_type": "code",
   "execution_count": 49,
   "metadata": {},
   "outputs": [
    {
     "name": "stdout",
     "output_type": "stream",
     "text": [
      "Classification Report:\n",
      "              precision    recall  f1-score   support\n",
      "\n",
      "           0       0.58      0.86      0.69     14602\n",
      "           1       0.90      0.68      0.78     28454\n",
      "\n",
      "    accuracy                           0.74     43056\n",
      "   macro avg       0.74      0.77      0.73     43056\n",
      "weighted avg       0.79      0.74      0.75     43056\n",
      "\n"
     ]
    }
   ],
   "source": [
    "print(\"Classification Report:\")\n",
    "print(classification_report(y_2019, y_pred_2019))\n"
   ]
  },
  {
   "cell_type": "code",
   "execution_count": 50,
   "metadata": {},
   "outputs": [
    {
     "name": "stdout",
     "output_type": "stream",
     "text": [
      "Accuracy of the model:  0.7409188034188035\n"
     ]
    }
   ],
   "source": [
    "# accuracy of the model\n",
    "accuracy = clf.score(X_2019, y_2019)\n",
    "print(\"Accuracy of the model: \", accuracy)\n"
   ]
  },
  {
   "cell_type": "code",
   "execution_count": 54,
   "metadata": {},
   "outputs": [
    {
     "data": {
      "text/plain": [
       "0.8533237642183968"
      ]
     },
     "execution_count": 54,
     "metadata": {},
     "output_type": "execute_result"
    }
   ],
   "source": [
    "# AUROC score\n",
    "auc = roc_auc_score(y_2019, y_pred_proba_2019)\n",
    "auc"
   ]
  },
  {
   "cell_type": "code",
   "execution_count": 52,
   "metadata": {},
   "outputs": [
    {
     "data": {
      "image/png": "[encoded data removed]",
      "text/plain": [
       "<Figure size 800x600 with 1 Axes>"
      ]
     },
     "metadata": {},
     "output_type": "display_data"
    }
   ],
   "source": [
    "# plot the ROC curve\n",
    "fpr_2019, tpr_2019, thresholds_2019 = roc_curve(y_2019, y_pred_proba_2019)\n",
    "\n",
    "plt.figure(figsize=(8, 6))\n",
    "plt.plot(fpr_2019, tpr_2019, color='blue', label='ROC curve')\n",
    "plt.plot([0, 1], [0, 1], color='gray', linestyle='--')\n",
    "plt.xlabel('False Positive Rate')\n",
    "plt.ylabel('True Positive Rate')\n",
    "plt.title('Receiver Operating Characteristic (ROC) Curve')\n",
    "plt.legend()\n",
    "plt.show()\n"
   ]
  },
  {
   "cell_type": "code",
   "execution_count": 53,
   "metadata": {},
   "outputs": [
    {
     "data": {
      "image/png": "[encoded data removed]",
      "text/plain": [
       "<Figure size 800x600 with 1 Axes>"
      ]
     },
     "metadata": {},
     "output_type": "display_data"
    }
   ],
   "source": [
    "# plot the confusion matrix\n",
    "conf_matrix_2019 = confusion_matrix(y_2019, y_pred_2019)\n",
    "\n",
    "plt.figure(figsize=(8, 6))\n",
    "\n",
    "sns.heatmap(conf_matrix_2019, annot=True, fmt='d', cmap='Blues', cbar=False)\n",
    "plt.xlabel('Predicted Labels')\n",
    "plt.ylabel('True Labels')\n",
    "plt.title('Confusion Matrix')\n",
    "plt.show()\n",
    "\n"
   ]
  },
  {
   "cell_type": "code",
   "execution_count": null,
   "metadata": {},
   "outputs": [],
   "source": []
  }
 ],
 "metadata": {
  "kernelspec": {
   "display_name": "base",
   "language": "python",
   "name": "python3"
  },
  "language_info": {
   "codemirror_mode": {
    "name": "ipython",
    "version": 3
   },
   "file_extension": ".py",
   "mimetype": "text/x-python",
   "name": "python",
   "nbconvert_exporter": "python",
   "pygments_lexer": "ipython3",
   "version": "3.11.4"
  }
 },
 "nbformat": 4,
 "nbformat_minor": 2
}
